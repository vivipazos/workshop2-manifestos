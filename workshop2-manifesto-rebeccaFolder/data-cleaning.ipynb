{
 "metadata": {
  "language_info": {
   "codemirror_mode": {
    "name": "ipython",
    "version": 3
   },
   "file_extension": ".py",
   "mimetype": "text/x-python",
   "name": "python",
   "nbconvert_exporter": "python",
   "pygments_lexer": "ipython3",
   "version": "3.8.3"
  },
  "orig_nbformat": 2,
  "kernelspec": {
   "name": "python383jvsc74a57bd0dca0ade3e726a953b501b15e8e990130d2b7799f14cfd9f4271676035ebe5511",
   "display_name": "Python 3.8.3 64-bit ('base': conda)"
  }
 },
 "nbformat": 4,
 "nbformat_minor": 2,
 "cells": [
  {
   "cell_type": "code",
   "execution_count": 1,
   "metadata": {},
   "outputs": [],
   "source": [
    "import pandas as pd\n",
    "df = pd.read_csv(\"manifesto-data-main.csv\")\n",
    "\n",
    "#Filter to pre-selected country list\n",
    "euCountries = ['Austria','Belgium','Bulgaria','Croatia','Cyprus','Czech Republic', 'Denmark', 'Estonia','Finland','France','Germany', 'Greece','Hungary','Ireland','Italy','Latvia','Lithuania','Luxembourg','Malta','Netherlands','Poland','Portugal','Romania','Slovakia','Slovenia','Spain','Sweden']\n",
    "\n",
    "df = df[df.countryname.isin(euCountries)]\n"
   ]
  },
  {
   "cell_type": "code",
   "execution_count": 2,
   "metadata": {},
   "outputs": [
    {
     "output_type": "execute_result",
     "data": {
      "text/plain": [
       "   country countryname  oecdmember  eumember       edate       date  party  \\\n",
       "0       11      Sweden           0         0  17/09/1944 1944-09-01  11220   \n",
       "1       11      Sweden           0         0  17/09/1944 1944-09-01  11320   \n",
       "2       11      Sweden           0         0  17/09/1944 1944-09-01  11420   \n",
       "3       11      Sweden           0         0  17/09/1944 1944-09-01  11620   \n",
       "4       11      Sweden           0         0  17/09/1944 1944-09-01  11810   \n",
       "\n",
       "                        partyname partyabbrev  parfam  ...  per703_2   rile  \\\n",
       "0       Communist Party of Sweden         SKP      20  ...       NaN   9.60   \n",
       "1  Social Democratic Labour Party         SAP      30  ...       NaN -37.80   \n",
       "2                  People’s Party          FP      40  ...       NaN   9.50   \n",
       "3                     Right Party         NaN      60  ...       NaN  28.00   \n",
       "4                  Agrarian Party         NaN      80  ...       NaN  23.81   \n",
       "\n",
       "   planeco  markeco  welfare  intpeace  datasetversion  id_perm  year  \\\n",
       "0      1.9    1.900      0.0     1.900           2020b   JN1LZH  1944   \n",
       "1      3.3    2.200     33.4     5.600           2020b   CMR7F6  1944   \n",
       "2      3.2    6.400     14.3     1.600           2020b   Z6OL6C  1944   \n",
       "3      1.8   22.800     10.6     0.000           2020b   YMKVN2  1944   \n",
       "4      0.0   19.048      0.0     4.762           2020b   U4SCRD  1944   \n",
       "\n",
       "     electionDate  \n",
       "0  September 1944  \n",
       "1  September 1944  \n",
       "2  September 1944  \n",
       "3  September 1944  \n",
       "4  September 1944  \n",
       "\n",
       "[5 rows x 176 columns]"
      ],
      "text/html": "<div>\n<style scoped>\n    .dataframe tbody tr th:only-of-type {\n        vertical-align: middle;\n    }\n\n    .dataframe tbody tr th {\n        vertical-align: top;\n    }\n\n    .dataframe thead th {\n        text-align: right;\n    }\n</style>\n<table border=\"1\" class=\"dataframe\">\n  <thead>\n    <tr style=\"text-align: right;\">\n      <th></th>\n      <th>country</th>\n      <th>countryname</th>\n      <th>oecdmember</th>\n      <th>eumember</th>\n      <th>edate</th>\n      <th>date</th>\n      <th>party</th>\n      <th>partyname</th>\n      <th>partyabbrev</th>\n      <th>parfam</th>\n      <th>...</th>\n      <th>per703_2</th>\n      <th>rile</th>\n      <th>planeco</th>\n      <th>markeco</th>\n      <th>welfare</th>\n      <th>intpeace</th>\n      <th>datasetversion</th>\n      <th>id_perm</th>\n      <th>year</th>\n      <th>electionDate</th>\n    </tr>\n  </thead>\n  <tbody>\n    <tr>\n      <th>0</th>\n      <td>11</td>\n      <td>Sweden</td>\n      <td>0</td>\n      <td>0</td>\n      <td>17/09/1944</td>\n      <td>1944-09-01</td>\n      <td>11220</td>\n      <td>Communist Party of Sweden</td>\n      <td>SKP</td>\n      <td>20</td>\n      <td>...</td>\n      <td>NaN</td>\n      <td>9.60</td>\n      <td>1.9</td>\n      <td>1.900</td>\n      <td>0.0</td>\n      <td>1.900</td>\n      <td>2020b</td>\n      <td>JN1LZH</td>\n      <td>1944</td>\n      <td>September 1944</td>\n    </tr>\n    <tr>\n      <th>1</th>\n      <td>11</td>\n      <td>Sweden</td>\n      <td>0</td>\n      <td>0</td>\n      <td>17/09/1944</td>\n      <td>1944-09-01</td>\n      <td>11320</td>\n      <td>Social Democratic Labour Party</td>\n      <td>SAP</td>\n      <td>30</td>\n      <td>...</td>\n      <td>NaN</td>\n      <td>-37.80</td>\n      <td>3.3</td>\n      <td>2.200</td>\n      <td>33.4</td>\n      <td>5.600</td>\n      <td>2020b</td>\n      <td>CMR7F6</td>\n      <td>1944</td>\n      <td>September 1944</td>\n    </tr>\n    <tr>\n      <th>2</th>\n      <td>11</td>\n      <td>Sweden</td>\n      <td>0</td>\n      <td>0</td>\n      <td>17/09/1944</td>\n      <td>1944-09-01</td>\n      <td>11420</td>\n      <td>People’s Party</td>\n      <td>FP</td>\n      <td>40</td>\n      <td>...</td>\n      <td>NaN</td>\n      <td>9.50</td>\n      <td>3.2</td>\n      <td>6.400</td>\n      <td>14.3</td>\n      <td>1.600</td>\n      <td>2020b</td>\n      <td>Z6OL6C</td>\n      <td>1944</td>\n      <td>September 1944</td>\n    </tr>\n    <tr>\n      <th>3</th>\n      <td>11</td>\n      <td>Sweden</td>\n      <td>0</td>\n      <td>0</td>\n      <td>17/09/1944</td>\n      <td>1944-09-01</td>\n      <td>11620</td>\n      <td>Right Party</td>\n      <td>NaN</td>\n      <td>60</td>\n      <td>...</td>\n      <td>NaN</td>\n      <td>28.00</td>\n      <td>1.8</td>\n      <td>22.800</td>\n      <td>10.6</td>\n      <td>0.000</td>\n      <td>2020b</td>\n      <td>YMKVN2</td>\n      <td>1944</td>\n      <td>September 1944</td>\n    </tr>\n    <tr>\n      <th>4</th>\n      <td>11</td>\n      <td>Sweden</td>\n      <td>0</td>\n      <td>0</td>\n      <td>17/09/1944</td>\n      <td>1944-09-01</td>\n      <td>11810</td>\n      <td>Agrarian Party</td>\n      <td>NaN</td>\n      <td>80</td>\n      <td>...</td>\n      <td>NaN</td>\n      <td>23.81</td>\n      <td>0.0</td>\n      <td>19.048</td>\n      <td>0.0</td>\n      <td>4.762</td>\n      <td>2020b</td>\n      <td>U4SCRD</td>\n      <td>1944</td>\n      <td>September 1944</td>\n    </tr>\n  </tbody>\n</table>\n<p>5 rows × 176 columns</p>\n</div>"
     },
     "metadata": {},
     "execution_count": 2
    }
   ],
   "source": [
    "#convert dates and add year\n",
    "import datetime\n",
    "\n",
    "df['date'] = pd.to_datetime(df['date'], format='%Y%m')\n",
    "df['year'] = df['date'].dt.strftime('%Y')\n",
    "df['electionDate'] = df['date'].dt.strftime('%B %Y')\n",
    "\n",
    "df.head()\n",
    "#Total rows = 2,622\n"
   ]
  },
  {
   "cell_type": "code",
   "execution_count": 3,
   "metadata": {},
   "outputs": [
    {
     "output_type": "execute_result",
     "data": {
      "text/plain": [
       "   country countryname  oecdmember  eumember       edate       date  party  \\\n",
       "0       11      Sweden           0         0  17/09/1944 1944-09-01  11220   \n",
       "1       11      Sweden           0         0  17/09/1944 1944-09-01  11320   \n",
       "2       11      Sweden           0         0  17/09/1944 1944-09-01  11420   \n",
       "3       11      Sweden           0         0  17/09/1944 1944-09-01  11620   \n",
       "4       11      Sweden           0         0  17/09/1944 1944-09-01  11810   \n",
       "\n",
       "                        partyname partyabbrev  parfam  ...  per703_2   rile  \\\n",
       "0       Communist Party of Sweden         SKP      20  ...       NaN   9.60   \n",
       "1  Social Democratic Labour Party         SAP      30  ...       NaN -37.80   \n",
       "2                  People’s Party          FP      40  ...       NaN   9.50   \n",
       "3                     Right Party         NaN      60  ...       NaN  28.00   \n",
       "4                  Agrarian Party         NaN      80  ...       NaN  23.81   \n",
       "\n",
       "   planeco  markeco  welfare  intpeace  datasetversion  id_perm  year  \\\n",
       "0      1.9    1.900      0.0     1.900           2020b   JN1LZH  1944   \n",
       "1      3.3    2.200     33.4     5.600           2020b   CMR7F6  1944   \n",
       "2      3.2    6.400     14.3     1.600           2020b   Z6OL6C  1944   \n",
       "3      1.8   22.800     10.6     0.000           2020b   YMKVN2  1944   \n",
       "4      0.0   19.048      0.0     4.762           2020b   U4SCRD  1944   \n",
       "\n",
       "     electionDate  \n",
       "0  September 1944  \n",
       "1  September 1944  \n",
       "2  September 1944  \n",
       "3  September 1944  \n",
       "4  September 1944  \n",
       "\n",
       "[5 rows x 176 columns]"
      ],
      "text/html": "<div>\n<style scoped>\n    .dataframe tbody tr th:only-of-type {\n        vertical-align: middle;\n    }\n\n    .dataframe tbody tr th {\n        vertical-align: top;\n    }\n\n    .dataframe thead th {\n        text-align: right;\n    }\n</style>\n<table border=\"1\" class=\"dataframe\">\n  <thead>\n    <tr style=\"text-align: right;\">\n      <th></th>\n      <th>country</th>\n      <th>countryname</th>\n      <th>oecdmember</th>\n      <th>eumember</th>\n      <th>edate</th>\n      <th>date</th>\n      <th>party</th>\n      <th>partyname</th>\n      <th>partyabbrev</th>\n      <th>parfam</th>\n      <th>...</th>\n      <th>per703_2</th>\n      <th>rile</th>\n      <th>planeco</th>\n      <th>markeco</th>\n      <th>welfare</th>\n      <th>intpeace</th>\n      <th>datasetversion</th>\n      <th>id_perm</th>\n      <th>year</th>\n      <th>electionDate</th>\n    </tr>\n  </thead>\n  <tbody>\n    <tr>\n      <th>0</th>\n      <td>11</td>\n      <td>Sweden</td>\n      <td>0</td>\n      <td>0</td>\n      <td>17/09/1944</td>\n      <td>1944-09-01</td>\n      <td>11220</td>\n      <td>Communist Party of Sweden</td>\n      <td>SKP</td>\n      <td>20</td>\n      <td>...</td>\n      <td>NaN</td>\n      <td>9.60</td>\n      <td>1.9</td>\n      <td>1.900</td>\n      <td>0.0</td>\n      <td>1.900</td>\n      <td>2020b</td>\n      <td>JN1LZH</td>\n      <td>1944</td>\n      <td>September 1944</td>\n    </tr>\n    <tr>\n      <th>1</th>\n      <td>11</td>\n      <td>Sweden</td>\n      <td>0</td>\n      <td>0</td>\n      <td>17/09/1944</td>\n      <td>1944-09-01</td>\n      <td>11320</td>\n      <td>Social Democratic Labour Party</td>\n      <td>SAP</td>\n      <td>30</td>\n      <td>...</td>\n      <td>NaN</td>\n      <td>-37.80</td>\n      <td>3.3</td>\n      <td>2.200</td>\n      <td>33.4</td>\n      <td>5.600</td>\n      <td>2020b</td>\n      <td>CMR7F6</td>\n      <td>1944</td>\n      <td>September 1944</td>\n    </tr>\n    <tr>\n      <th>2</th>\n      <td>11</td>\n      <td>Sweden</td>\n      <td>0</td>\n      <td>0</td>\n      <td>17/09/1944</td>\n      <td>1944-09-01</td>\n      <td>11420</td>\n      <td>People’s Party</td>\n      <td>FP</td>\n      <td>40</td>\n      <td>...</td>\n      <td>NaN</td>\n      <td>9.50</td>\n      <td>3.2</td>\n      <td>6.400</td>\n      <td>14.3</td>\n      <td>1.600</td>\n      <td>2020b</td>\n      <td>Z6OL6C</td>\n      <td>1944</td>\n      <td>September 1944</td>\n    </tr>\n    <tr>\n      <th>3</th>\n      <td>11</td>\n      <td>Sweden</td>\n      <td>0</td>\n      <td>0</td>\n      <td>17/09/1944</td>\n      <td>1944-09-01</td>\n      <td>11620</td>\n      <td>Right Party</td>\n      <td>NaN</td>\n      <td>60</td>\n      <td>...</td>\n      <td>NaN</td>\n      <td>28.00</td>\n      <td>1.8</td>\n      <td>22.800</td>\n      <td>10.6</td>\n      <td>0.000</td>\n      <td>2020b</td>\n      <td>YMKVN2</td>\n      <td>1944</td>\n      <td>September 1944</td>\n    </tr>\n    <tr>\n      <th>4</th>\n      <td>11</td>\n      <td>Sweden</td>\n      <td>0</td>\n      <td>0</td>\n      <td>17/09/1944</td>\n      <td>1944-09-01</td>\n      <td>11810</td>\n      <td>Agrarian Party</td>\n      <td>NaN</td>\n      <td>80</td>\n      <td>...</td>\n      <td>NaN</td>\n      <td>23.81</td>\n      <td>0.0</td>\n      <td>19.048</td>\n      <td>0.0</td>\n      <td>4.762</td>\n      <td>2020b</td>\n      <td>U4SCRD</td>\n      <td>1944</td>\n      <td>September 1944</td>\n    </tr>\n  </tbody>\n</table>\n<p>5 rows × 176 columns</p>\n</div>"
     },
     "metadata": {},
     "execution_count": 3
    }
   ],
   "source": [
    "#check for missing values\n",
    "df.per503.isnull()\n",
    "per503Missing = df[df.per503.isnull()] #missing values = 7\n",
    "\n",
    "#Remove missing values with Index\n",
    "missingValues = list(per503Missing.index)\n",
    "df = df[~df.index.isin(missingValues)]\n",
    "df.head()\n",
    "\n",
    "#Total rows = 2,615"
   ]
  },
  {
   "cell_type": "code",
   "execution_count": 4,
   "metadata": {},
   "outputs": [
    {
     "output_type": "execute_result",
     "data": {
      "text/plain": [
       "      country countryname  oecdmember  eumember       edate       date  party  \\\n",
       "3529       81     Croatia           0        20  25/11/2007 2007-11-01  81041   \n",
       "\n",
       "                                              partyname   partyabbrev  parfam  \\\n",
       "3529  Coalition of the Croatian Peasant Party, the C...  HSS-HSLS-PGS     999   \n",
       "\n",
       "      ...  per703_2    rile  planeco  markeco  welfare  intpeace  \\\n",
       "3529  ...       NaN -25.689     0.29    1.161   16.401       0.0   \n",
       "\n",
       "      datasetversion  id_perm  year   electionDate  \n",
       "3529           2020b   PYMH6K  2007  November 2007  \n",
       "\n",
       "[1 rows x 176 columns]"
      ],
      "text/html": "<div>\n<style scoped>\n    .dataframe tbody tr th:only-of-type {\n        vertical-align: middle;\n    }\n\n    .dataframe tbody tr th {\n        vertical-align: top;\n    }\n\n    .dataframe thead th {\n        text-align: right;\n    }\n</style>\n<table border=\"1\" class=\"dataframe\">\n  <thead>\n    <tr style=\"text-align: right;\">\n      <th></th>\n      <th>country</th>\n      <th>countryname</th>\n      <th>oecdmember</th>\n      <th>eumember</th>\n      <th>edate</th>\n      <th>date</th>\n      <th>party</th>\n      <th>partyname</th>\n      <th>partyabbrev</th>\n      <th>parfam</th>\n      <th>...</th>\n      <th>per703_2</th>\n      <th>rile</th>\n      <th>planeco</th>\n      <th>markeco</th>\n      <th>welfare</th>\n      <th>intpeace</th>\n      <th>datasetversion</th>\n      <th>id_perm</th>\n      <th>year</th>\n      <th>electionDate</th>\n    </tr>\n  </thead>\n  <tbody>\n    <tr>\n      <th>3529</th>\n      <td>81</td>\n      <td>Croatia</td>\n      <td>0</td>\n      <td>20</td>\n      <td>25/11/2007</td>\n      <td>2007-11-01</td>\n      <td>81041</td>\n      <td>Coalition of the Croatian Peasant Party, the C...</td>\n      <td>HSS-HSLS-PGS</td>\n      <td>999</td>\n      <td>...</td>\n      <td>NaN</td>\n      <td>-25.689</td>\n      <td>0.29</td>\n      <td>1.161</td>\n      <td>16.401</td>\n      <td>0.0</td>\n      <td>2020b</td>\n      <td>PYMH6K</td>\n      <td>2007</td>\n      <td>November 2007</td>\n    </tr>\n  </tbody>\n</table>\n<p>1 rows × 176 columns</p>\n</div>"
     },
     "metadata": {},
     "execution_count": 4
    }
   ],
   "source": [
    "#Just removing one row because of no value for ParFam\n",
    "\n",
    "missing = df.parfam == 999\n",
    "df_missing = df[missing]\n",
    "\n",
    "df_missing"
   ]
  },
  {
   "cell_type": "code",
   "execution_count": 5,
   "metadata": {},
   "outputs": [
    {
     "output_type": "execute_result",
     "data": {
      "text/plain": [
       "   country countryname  oecdmember  eumember       edate       date  party  \\\n",
       "0       11      Sweden           0         0  17/09/1944 1944-09-01  11220   \n",
       "1       11      Sweden           0         0  17/09/1944 1944-09-01  11320   \n",
       "2       11      Sweden           0         0  17/09/1944 1944-09-01  11420   \n",
       "3       11      Sweden           0         0  17/09/1944 1944-09-01  11620   \n",
       "4       11      Sweden           0         0  17/09/1944 1944-09-01  11810   \n",
       "\n",
       "                        partyname partyabbrev  parfam  ...  per703_2   rile  \\\n",
       "0       Communist Party of Sweden         SKP      20  ...       NaN   9.60   \n",
       "1  Social Democratic Labour Party         SAP      30  ...       NaN -37.80   \n",
       "2                  People’s Party          FP      40  ...       NaN   9.50   \n",
       "3                     Right Party         NaN      60  ...       NaN  28.00   \n",
       "4                  Agrarian Party         NaN      80  ...       NaN  23.81   \n",
       "\n",
       "   planeco  markeco  welfare  intpeace  datasetversion  id_perm  year  \\\n",
       "0      1.9    1.900      0.0     1.900           2020b   JN1LZH  1944   \n",
       "1      3.3    2.200     33.4     5.600           2020b   CMR7F6  1944   \n",
       "2      3.2    6.400     14.3     1.600           2020b   Z6OL6C  1944   \n",
       "3      1.8   22.800     10.6     0.000           2020b   YMKVN2  1944   \n",
       "4      0.0   19.048      0.0     4.762           2020b   U4SCRD  1944   \n",
       "\n",
       "     electionDate  \n",
       "0  September 1944  \n",
       "1  September 1944  \n",
       "2  September 1944  \n",
       "3  September 1944  \n",
       "4  September 1944  \n",
       "\n",
       "[5 rows x 176 columns]"
      ],
      "text/html": "<div>\n<style scoped>\n    .dataframe tbody tr th:only-of-type {\n        vertical-align: middle;\n    }\n\n    .dataframe tbody tr th {\n        vertical-align: top;\n    }\n\n    .dataframe thead th {\n        text-align: right;\n    }\n</style>\n<table border=\"1\" class=\"dataframe\">\n  <thead>\n    <tr style=\"text-align: right;\">\n      <th></th>\n      <th>country</th>\n      <th>countryname</th>\n      <th>oecdmember</th>\n      <th>eumember</th>\n      <th>edate</th>\n      <th>date</th>\n      <th>party</th>\n      <th>partyname</th>\n      <th>partyabbrev</th>\n      <th>parfam</th>\n      <th>...</th>\n      <th>per703_2</th>\n      <th>rile</th>\n      <th>planeco</th>\n      <th>markeco</th>\n      <th>welfare</th>\n      <th>intpeace</th>\n      <th>datasetversion</th>\n      <th>id_perm</th>\n      <th>year</th>\n      <th>electionDate</th>\n    </tr>\n  </thead>\n  <tbody>\n    <tr>\n      <th>0</th>\n      <td>11</td>\n      <td>Sweden</td>\n      <td>0</td>\n      <td>0</td>\n      <td>17/09/1944</td>\n      <td>1944-09-01</td>\n      <td>11220</td>\n      <td>Communist Party of Sweden</td>\n      <td>SKP</td>\n      <td>20</td>\n      <td>...</td>\n      <td>NaN</td>\n      <td>9.60</td>\n      <td>1.9</td>\n      <td>1.900</td>\n      <td>0.0</td>\n      <td>1.900</td>\n      <td>2020b</td>\n      <td>JN1LZH</td>\n      <td>1944</td>\n      <td>September 1944</td>\n    </tr>\n    <tr>\n      <th>1</th>\n      <td>11</td>\n      <td>Sweden</td>\n      <td>0</td>\n      <td>0</td>\n      <td>17/09/1944</td>\n      <td>1944-09-01</td>\n      <td>11320</td>\n      <td>Social Democratic Labour Party</td>\n      <td>SAP</td>\n      <td>30</td>\n      <td>...</td>\n      <td>NaN</td>\n      <td>-37.80</td>\n      <td>3.3</td>\n      <td>2.200</td>\n      <td>33.4</td>\n      <td>5.600</td>\n      <td>2020b</td>\n      <td>CMR7F6</td>\n      <td>1944</td>\n      <td>September 1944</td>\n    </tr>\n    <tr>\n      <th>2</th>\n      <td>11</td>\n      <td>Sweden</td>\n      <td>0</td>\n      <td>0</td>\n      <td>17/09/1944</td>\n      <td>1944-09-01</td>\n      <td>11420</td>\n      <td>People’s Party</td>\n      <td>FP</td>\n      <td>40</td>\n      <td>...</td>\n      <td>NaN</td>\n      <td>9.50</td>\n      <td>3.2</td>\n      <td>6.400</td>\n      <td>14.3</td>\n      <td>1.600</td>\n      <td>2020b</td>\n      <td>Z6OL6C</td>\n      <td>1944</td>\n      <td>September 1944</td>\n    </tr>\n    <tr>\n      <th>3</th>\n      <td>11</td>\n      <td>Sweden</td>\n      <td>0</td>\n      <td>0</td>\n      <td>17/09/1944</td>\n      <td>1944-09-01</td>\n      <td>11620</td>\n      <td>Right Party</td>\n      <td>NaN</td>\n      <td>60</td>\n      <td>...</td>\n      <td>NaN</td>\n      <td>28.00</td>\n      <td>1.8</td>\n      <td>22.800</td>\n      <td>10.6</td>\n      <td>0.000</td>\n      <td>2020b</td>\n      <td>YMKVN2</td>\n      <td>1944</td>\n      <td>September 1944</td>\n    </tr>\n    <tr>\n      <th>4</th>\n      <td>11</td>\n      <td>Sweden</td>\n      <td>0</td>\n      <td>0</td>\n      <td>17/09/1944</td>\n      <td>1944-09-01</td>\n      <td>11810</td>\n      <td>Agrarian Party</td>\n      <td>NaN</td>\n      <td>80</td>\n      <td>...</td>\n      <td>NaN</td>\n      <td>23.81</td>\n      <td>0.0</td>\n      <td>19.048</td>\n      <td>0.0</td>\n      <td>4.762</td>\n      <td>2020b</td>\n      <td>U4SCRD</td>\n      <td>1944</td>\n      <td>September 1944</td>\n    </tr>\n  </tbody>\n</table>\n<p>5 rows × 176 columns</p>\n</div>"
     },
     "metadata": {},
     "execution_count": 5
    }
   ],
   "source": [
    "#Remove missing parfam: Code 999\n",
    "df = df[(df.parfam != 999)]\n",
    "\n",
    "df.head()\n",
    "#Total rows now 2,614"
   ]
  },
  {
   "cell_type": "code",
   "execution_count": 6,
   "metadata": {},
   "outputs": [
    {
     "output_type": "execute_result",
     "data": {
      "text/plain": [
       "      parfam  year countryname  per501  per502  per503  pervote    rile  \\\n",
       "0         20  1944      Sweden   0.000   0.000   0.000   10.300   9.600   \n",
       "1         30  1944      Sweden   0.000   0.000   5.600   46.500 -37.800   \n",
       "2         40  1944      Sweden   0.000   0.000   1.600   12.900   9.500   \n",
       "3         60  1944      Sweden   0.000   0.000   5.300   15.800  28.000   \n",
       "4         80  1944      Sweden   0.000   0.000   0.000   13.600  23.810   \n",
       "...      ...   ...         ...     ...     ...     ...      ...     ...   \n",
       "4446      40  2018    Slovenia   1.681   1.681   2.941    5.105  -8.403   \n",
       "4447      40  2018    Slovenia   5.512   6.299   3.937    9.748  -8.661   \n",
       "4448      50  2018    Slovenia   0.994   1.551   0.915    7.159  10.537   \n",
       "4449      70  2018    Slovenia   5.556   3.968   0.794    4.173   7.937   \n",
       "4450      95  2018    Slovenia   5.369   8.389   2.013    4.925 -28.523   \n",
       "\n",
       "        electionDate                                   partyname  \n",
       "0     September 1944                   Communist Party of Sweden  \n",
       "1     September 1944              Social Democratic Labour Party  \n",
       "2     September 1944                              People’s Party  \n",
       "3     September 1944                                 Right Party  \n",
       "4     September 1944                              Agrarian Party  \n",
       "...              ...                                         ...  \n",
       "4446       June 2018                    Party of Alenka Bratušek  \n",
       "4447       June 2018                         Modern Centre Party  \n",
       "4448       June 2018      New Slovenian Christian People’s Party  \n",
       "4449       June 2018                    Slovenian National Party  \n",
       "4450       June 2018  Democratic Party of Pensioners of Slovenia  \n",
       "\n",
       "[2614 rows x 10 columns]"
      ],
      "text/html": "<div>\n<style scoped>\n    .dataframe tbody tr th:only-of-type {\n        vertical-align: middle;\n    }\n\n    .dataframe tbody tr th {\n        vertical-align: top;\n    }\n\n    .dataframe thead th {\n        text-align: right;\n    }\n</style>\n<table border=\"1\" class=\"dataframe\">\n  <thead>\n    <tr style=\"text-align: right;\">\n      <th></th>\n      <th>parfam</th>\n      <th>year</th>\n      <th>countryname</th>\n      <th>per501</th>\n      <th>per502</th>\n      <th>per503</th>\n      <th>pervote</th>\n      <th>rile</th>\n      <th>electionDate</th>\n      <th>partyname</th>\n    </tr>\n  </thead>\n  <tbody>\n    <tr>\n      <th>0</th>\n      <td>20</td>\n      <td>1944</td>\n      <td>Sweden</td>\n      <td>0.000</td>\n      <td>0.000</td>\n      <td>0.000</td>\n      <td>10.300</td>\n      <td>9.600</td>\n      <td>September 1944</td>\n      <td>Communist Party of Sweden</td>\n    </tr>\n    <tr>\n      <th>1</th>\n      <td>30</td>\n      <td>1944</td>\n      <td>Sweden</td>\n      <td>0.000</td>\n      <td>0.000</td>\n      <td>5.600</td>\n      <td>46.500</td>\n      <td>-37.800</td>\n      <td>September 1944</td>\n      <td>Social Democratic Labour Party</td>\n    </tr>\n    <tr>\n      <th>2</th>\n      <td>40</td>\n      <td>1944</td>\n      <td>Sweden</td>\n      <td>0.000</td>\n      <td>0.000</td>\n      <td>1.600</td>\n      <td>12.900</td>\n      <td>9.500</td>\n      <td>September 1944</td>\n      <td>People’s Party</td>\n    </tr>\n    <tr>\n      <th>3</th>\n      <td>60</td>\n      <td>1944</td>\n      <td>Sweden</td>\n      <td>0.000</td>\n      <td>0.000</td>\n      <td>5.300</td>\n      <td>15.800</td>\n      <td>28.000</td>\n      <td>September 1944</td>\n      <td>Right Party</td>\n    </tr>\n    <tr>\n      <th>4</th>\n      <td>80</td>\n      <td>1944</td>\n      <td>Sweden</td>\n      <td>0.000</td>\n      <td>0.000</td>\n      <td>0.000</td>\n      <td>13.600</td>\n      <td>23.810</td>\n      <td>September 1944</td>\n      <td>Agrarian Party</td>\n    </tr>\n    <tr>\n      <th>...</th>\n      <td>...</td>\n      <td>...</td>\n      <td>...</td>\n      <td>...</td>\n      <td>...</td>\n      <td>...</td>\n      <td>...</td>\n      <td>...</td>\n      <td>...</td>\n      <td>...</td>\n    </tr>\n    <tr>\n      <th>4446</th>\n      <td>40</td>\n      <td>2018</td>\n      <td>Slovenia</td>\n      <td>1.681</td>\n      <td>1.681</td>\n      <td>2.941</td>\n      <td>5.105</td>\n      <td>-8.403</td>\n      <td>June 2018</td>\n      <td>Party of Alenka Bratušek</td>\n    </tr>\n    <tr>\n      <th>4447</th>\n      <td>40</td>\n      <td>2018</td>\n      <td>Slovenia</td>\n      <td>5.512</td>\n      <td>6.299</td>\n      <td>3.937</td>\n      <td>9.748</td>\n      <td>-8.661</td>\n      <td>June 2018</td>\n      <td>Modern Centre Party</td>\n    </tr>\n    <tr>\n      <th>4448</th>\n      <td>50</td>\n      <td>2018</td>\n      <td>Slovenia</td>\n      <td>0.994</td>\n      <td>1.551</td>\n      <td>0.915</td>\n      <td>7.159</td>\n      <td>10.537</td>\n      <td>June 2018</td>\n      <td>New Slovenian Christian People’s Party</td>\n    </tr>\n    <tr>\n      <th>4449</th>\n      <td>70</td>\n      <td>2018</td>\n      <td>Slovenia</td>\n      <td>5.556</td>\n      <td>3.968</td>\n      <td>0.794</td>\n      <td>4.173</td>\n      <td>7.937</td>\n      <td>June 2018</td>\n      <td>Slovenian National Party</td>\n    </tr>\n    <tr>\n      <th>4450</th>\n      <td>95</td>\n      <td>2018</td>\n      <td>Slovenia</td>\n      <td>5.369</td>\n      <td>8.389</td>\n      <td>2.013</td>\n      <td>4.925</td>\n      <td>-28.523</td>\n      <td>June 2018</td>\n      <td>Democratic Party of Pensioners of Slovenia</td>\n    </tr>\n  </tbody>\n</table>\n<p>2614 rows × 10 columns</p>\n</div>"
     },
     "metadata": {},
     "execution_count": 6
    }
   ],
   "source": [
    "df = df[['parfam','year','countryname','per501','per502','per503','pervote','rile','electionDate', 'partyname']]\n",
    "\n",
    "df"
   ]
  },
  {
   "cell_type": "code",
   "execution_count": 9,
   "metadata": {},
   "outputs": [
    {
     "output_type": "execute_result",
     "data": {
      "text/plain": [
       "   parfam  year countryname  per503  pervote    electionDate  \\\n",
       "0      20  1944      Sweden     0.0     10.3  September 1944   \n",
       "1      30  1944      Sweden     5.6     46.5  September 1944   \n",
       "2      40  1944      Sweden     1.6     12.9  September 1944   \n",
       "3      60  1944      Sweden     5.3     15.8  September 1944   \n",
       "4      80  1944      Sweden     0.0     13.6  September 1944   \n",
       "\n",
       "                        partyname  environWeighted  \n",
       "0       Communist Party of Sweden             0.00  \n",
       "1  Social Democratic Labour Party           260.40  \n",
       "2                  People’s Party            20.64  \n",
       "3                     Right Party            83.74  \n",
       "4                  Agrarian Party             0.00  "
      ],
      "text/html": "<div>\n<style scoped>\n    .dataframe tbody tr th:only-of-type {\n        vertical-align: middle;\n    }\n\n    .dataframe tbody tr th {\n        vertical-align: top;\n    }\n\n    .dataframe thead th {\n        text-align: right;\n    }\n</style>\n<table border=\"1\" class=\"dataframe\">\n  <thead>\n    <tr style=\"text-align: right;\">\n      <th></th>\n      <th>parfam</th>\n      <th>year</th>\n      <th>countryname</th>\n      <th>per503</th>\n      <th>pervote</th>\n      <th>electionDate</th>\n      <th>partyname</th>\n      <th>environWeighted</th>\n    </tr>\n  </thead>\n  <tbody>\n    <tr>\n      <th>0</th>\n      <td>20</td>\n      <td>1944</td>\n      <td>Sweden</td>\n      <td>0.0</td>\n      <td>10.3</td>\n      <td>September 1944</td>\n      <td>Communist Party of Sweden</td>\n      <td>0.00</td>\n    </tr>\n    <tr>\n      <th>1</th>\n      <td>30</td>\n      <td>1944</td>\n      <td>Sweden</td>\n      <td>5.6</td>\n      <td>46.5</td>\n      <td>September 1944</td>\n      <td>Social Democratic Labour Party</td>\n      <td>260.40</td>\n    </tr>\n    <tr>\n      <th>2</th>\n      <td>40</td>\n      <td>1944</td>\n      <td>Sweden</td>\n      <td>1.6</td>\n      <td>12.9</td>\n      <td>September 1944</td>\n      <td>People’s Party</td>\n      <td>20.64</td>\n    </tr>\n    <tr>\n      <th>3</th>\n      <td>60</td>\n      <td>1944</td>\n      <td>Sweden</td>\n      <td>5.3</td>\n      <td>15.8</td>\n      <td>September 1944</td>\n      <td>Right Party</td>\n      <td>83.74</td>\n    </tr>\n    <tr>\n      <th>4</th>\n      <td>80</td>\n      <td>1944</td>\n      <td>Sweden</td>\n      <td>0.0</td>\n      <td>13.6</td>\n      <td>September 1944</td>\n      <td>Agrarian Party</td>\n      <td>0.00</td>\n    </tr>\n  </tbody>\n</table>\n</div>"
     },
     "metadata": {},
     "execution_count": 9
    }
   ],
   "source": [
    "#Add weighted average - not using weighted values anymore (April 16)\n",
    "\n",
    "# df['environWeighted'] = df.per503*df.pervote\n",
    "\n",
    "# df.head()"
   ]
  },
  {
   "cell_type": "code",
   "execution_count": 7,
   "metadata": {},
   "outputs": [],
   "source": [
    "df = df.rename(columns={'per501': 'environ', 'per502': 'culture', 'per503': 'equality'})"
   ]
  },
  {
   "cell_type": "code",
   "execution_count": 8,
   "metadata": {},
   "outputs": [],
   "source": [
    "#Set index\n",
    "df = df.set_index(pd.DatetimeIndex(df['year'])).drop(['year'], axis=1)"
   ]
  },
  {
   "cell_type": "code",
   "execution_count": 9,
   "metadata": {},
   "outputs": [],
   "source": [
    "df.to_csv('cleaned-data-2.csv')"
   ]
  }
 ]
}