{
 "metadata": {
  "language_info": {
   "codemirror_mode": {
    "name": "ipython",
    "version": 3
   },
   "file_extension": ".py",
   "mimetype": "text/x-python",
   "name": "python",
   "nbconvert_exporter": "python",
   "pygments_lexer": "ipython3",
   "version": "3.8.3"
  },
  "orig_nbformat": 2,
  "kernelspec": {
   "name": "python383jvsc74a57bd0dca0ade3e726a953b501b15e8e990130d2b7799f14cfd9f4271676035ebe5511",
   "display_name": "Python 3.8.3 64-bit ('base': conda)"
  }
 },
 "nbformat": 4,
 "nbformat_minor": 2,
 "cells": [
  {
   "source": [
    "import pandas as pd\n",
    "df = pd.read_csv(\"manifesto-data-main.csv\")\n",
    "\n",
    "#Checking unique country names for filtering\n",
    "df.countryname.unique()"
   ],
   "cell_type": "code",
   "metadata": {},
   "execution_count": 21,
   "outputs": [
    {
     "output_type": "execute_result",
     "data": {
      "text/plain": [
       "array(['Sweden', 'Norway', 'Denmark', 'Finland', 'Iceland', 'Belgium',\n",
       "       'Netherlands', 'Luxembourg', 'France', 'Italy', 'Spain', 'Greece',\n",
       "       'Portugal', 'Germany', 'Austria', 'Switzerland', 'United Kingdom',\n",
       "       'Northern Ireland', 'Ireland', 'Malta', 'Cyprus', 'United States',\n",
       "       'Canada', 'Australia', 'New Zealand', 'Japan', 'Israel',\n",
       "       'Sri Lanka', 'Turkey', 'Albania', 'Armenia', 'Azerbaijan',\n",
       "       'Belarus', 'Bosnia-Herzegovina', 'Bulgaria', 'Croatia',\n",
       "       'Czech Republic', 'Estonia', 'Georgia',\n",
       "       'German Democratic Republic', 'Hungary', 'Latvia', 'Lithuania',\n",
       "       'North Macedonia', 'Moldova', 'Montenegro', 'Poland', 'Romania',\n",
       "       'Russia', 'Serbia', 'Slovakia', 'Slovenia', 'Ukraine',\n",
       "       'South Korea', 'Mexico', 'South Africa'], dtype=object)"
      ]
     },
     "metadata": {},
     "execution_count": 21
    }
   ]
  },
  {
   "cell_type": "code",
   "execution_count": 22,
   "metadata": {},
   "outputs": [
    {
     "output_type": "execute_result",
     "data": {
      "text/plain": [
       "array(['Sweden', 'Denmark', 'Finland', 'Belgium', 'Netherlands',\n",
       "       'Luxembourg', 'France', 'Italy', 'Spain', 'Greece', 'Portugal',\n",
       "       'Germany', 'Austria', 'Ireland', 'Malta', 'Cyprus', 'Bulgaria',\n",
       "       'Croatia', 'Czech Republic', 'Estonia', 'Hungary', 'Latvia',\n",
       "       'Lithuania', 'Poland', 'Romania', 'Slovakia', 'Slovenia'],\n",
       "      dtype=object)"
      ]
     },
     "metadata": {},
     "execution_count": 22
    }
   ],
   "source": [
    "#Filtering to EU countries from pre-defined list.\n",
    "\n",
    "euCountries = ['Austria','Belgium','Bulgaria','Croatia','Cyprus','Czech Republic', 'Denmark', 'Estonia','Finland','France','Germany', 'Greece','Hungary','Ireland','Italy','Latvia','Lithuania','Luxembourg','Malta','Netherlands','Poland','Portugal','Romania','Slovakia','Slovenia','Spain','Sweden'] #pre-defined list\n",
    "\n",
    "euCountriesCode = [42,21,80,81,55,82,13,83,14,31,41,34,86,53,32,87,88,23,54,22,92,35,93,96,97,33,11] #corresponding country codes, if needed, so far not used\n",
    "\n",
    "df_select = df[df.countryname.isin(euCountries)] #subset to the above countries\n",
    "\n",
    "df_select.countryname.unique() #display unique country and make sure it is correct with above pre-defined list"
   ]
  },
  {
   "cell_type": "code",
   "execution_count": 23,
   "metadata": {},
   "outputs": [
    {
     "output_type": "execute_result",
     "data": {
      "text/plain": [
       "array(['Sweden', 'Denmark', 'Finland', 'Belgium', 'Netherlands',\n",
       "       'Luxembourg', 'France', 'Italy', 'Spain', 'Greece', 'Portugal',\n",
       "       'Germany', 'Austria', 'United Kingdom', 'Ireland', 'Cyprus',\n",
       "       'Bulgaria', 'Croatia', 'Czech Republic', 'Estonia', 'Hungary',\n",
       "       'Latvia', 'Lithuania', 'Poland', 'Romania', 'Slovakia', 'Slovenia'],\n",
       "      dtype=object)"
      ]
     },
     "metadata": {},
     "execution_count": 23
    }
   ],
   "source": [
    "#Alternative, using the 'eumember' column to determine list.\n",
    "df_filter = df[df.eumember.eq(10)]; \n",
    "df_filter.countryname.unique() #Decided to omit this and use a pre-defined list."
   ]
  },
  {
   "cell_type": "code",
   "execution_count": 24,
   "metadata": {},
   "outputs": [],
   "source": [
    "# list(df_select.columns) #Checking column headers"
   ]
  },
  {
   "cell_type": "code",
   "execution_count": 25,
   "metadata": {},
   "outputs": [
    {
     "output_type": "execute_result",
     "data": {
      "text/plain": [
       "              party           date       parfam      pervote     totseats  \\\n",
       "count   2622.000000    2622.000000  2622.000000  2556.000000  2622.000000   \n",
       "mean   42928.888253  199129.516781    48.662090    13.890917   263.060641   \n",
       "std    28617.066411    1975.000133    30.267828    12.645400   160.273311   \n",
       "min    11110.000000  194409.000000    10.000000     0.000000    26.000000   \n",
       "25%    21521.000000  197903.000000    30.000000     4.430750   150.000000   \n",
       "50%    33320.000000  199409.000000    40.000000     9.110500   200.000000   \n",
       "75%    80220.000000  200710.000000    67.500000    20.640000   350.000000   \n",
       "max    97952.000000  201911.000000   999.000000    67.880000   709.000000   \n",
       "\n",
       "          progtype  datasetorigin     peruncod       per504       per505  \\\n",
       "count  2622.000000    2622.000000  2552.000000  2615.000000  2615.000000   \n",
       "mean      1.901983      39.498856     5.746115     7.567459     0.511418   \n",
       "std       5.352504      43.088055    11.843127     6.060823     1.436023   \n",
       "min       1.000000      10.000000     0.000000     0.000000     0.000000   \n",
       "25%       1.000000      10.000000     0.000000     3.279000     0.000000   \n",
       "50%       1.000000      20.000000     0.970500     6.562000     0.000000   \n",
       "75%       1.000000      60.000000     4.815250    10.700000     0.234500   \n",
       "max      99.000000     151.000000    89.300000    65.854000    16.667000   \n",
       "\n",
       "              rile      welfare  \n",
       "count  2615.000000  2615.000000  \n",
       "mean     -2.995662    12.265824  \n",
       "std      21.411215     7.939760  \n",
       "min     -74.300000     0.000000  \n",
       "25%     -16.800500     6.842000  \n",
       "50%      -3.922000    11.009000  \n",
       "75%       9.654500    16.494500  \n",
       "max      90.909000    70.732000  "
      ],
      "text/html": "<div>\n<style scoped>\n    .dataframe tbody tr th:only-of-type {\n        vertical-align: middle;\n    }\n\n    .dataframe tbody tr th {\n        vertical-align: top;\n    }\n\n    .dataframe thead th {\n        text-align: right;\n    }\n</style>\n<table border=\"1\" class=\"dataframe\">\n  <thead>\n    <tr style=\"text-align: right;\">\n      <th></th>\n      <th>party</th>\n      <th>date</th>\n      <th>parfam</th>\n      <th>pervote</th>\n      <th>totseats</th>\n      <th>progtype</th>\n      <th>datasetorigin</th>\n      <th>peruncod</th>\n      <th>per504</th>\n      <th>per505</th>\n      <th>rile</th>\n      <th>welfare</th>\n    </tr>\n  </thead>\n  <tbody>\n    <tr>\n      <th>count</th>\n      <td>2622.000000</td>\n      <td>2622.000000</td>\n      <td>2622.000000</td>\n      <td>2556.000000</td>\n      <td>2622.000000</td>\n      <td>2622.000000</td>\n      <td>2622.000000</td>\n      <td>2552.000000</td>\n      <td>2615.000000</td>\n      <td>2615.000000</td>\n      <td>2615.000000</td>\n      <td>2615.000000</td>\n    </tr>\n    <tr>\n      <th>mean</th>\n      <td>42928.888253</td>\n      <td>199129.516781</td>\n      <td>48.662090</td>\n      <td>13.890917</td>\n      <td>263.060641</td>\n      <td>1.901983</td>\n      <td>39.498856</td>\n      <td>5.746115</td>\n      <td>7.567459</td>\n      <td>0.511418</td>\n      <td>-2.995662</td>\n      <td>12.265824</td>\n    </tr>\n    <tr>\n      <th>std</th>\n      <td>28617.066411</td>\n      <td>1975.000133</td>\n      <td>30.267828</td>\n      <td>12.645400</td>\n      <td>160.273311</td>\n      <td>5.352504</td>\n      <td>43.088055</td>\n      <td>11.843127</td>\n      <td>6.060823</td>\n      <td>1.436023</td>\n      <td>21.411215</td>\n      <td>7.939760</td>\n    </tr>\n    <tr>\n      <th>min</th>\n      <td>11110.000000</td>\n      <td>194409.000000</td>\n      <td>10.000000</td>\n      <td>0.000000</td>\n      <td>26.000000</td>\n      <td>1.000000</td>\n      <td>10.000000</td>\n      <td>0.000000</td>\n      <td>0.000000</td>\n      <td>0.000000</td>\n      <td>-74.300000</td>\n      <td>0.000000</td>\n    </tr>\n    <tr>\n      <th>25%</th>\n      <td>21521.000000</td>\n      <td>197903.000000</td>\n      <td>30.000000</td>\n      <td>4.430750</td>\n      <td>150.000000</td>\n      <td>1.000000</td>\n      <td>10.000000</td>\n      <td>0.000000</td>\n      <td>3.279000</td>\n      <td>0.000000</td>\n      <td>-16.800500</td>\n      <td>6.842000</td>\n    </tr>\n    <tr>\n      <th>50%</th>\n      <td>33320.000000</td>\n      <td>199409.000000</td>\n      <td>40.000000</td>\n      <td>9.110500</td>\n      <td>200.000000</td>\n      <td>1.000000</td>\n      <td>20.000000</td>\n      <td>0.970500</td>\n      <td>6.562000</td>\n      <td>0.000000</td>\n      <td>-3.922000</td>\n      <td>11.009000</td>\n    </tr>\n    <tr>\n      <th>75%</th>\n      <td>80220.000000</td>\n      <td>200710.000000</td>\n      <td>67.500000</td>\n      <td>20.640000</td>\n      <td>350.000000</td>\n      <td>1.000000</td>\n      <td>60.000000</td>\n      <td>4.815250</td>\n      <td>10.700000</td>\n      <td>0.234500</td>\n      <td>9.654500</td>\n      <td>16.494500</td>\n    </tr>\n    <tr>\n      <th>max</th>\n      <td>97952.000000</td>\n      <td>201911.000000</td>\n      <td>999.000000</td>\n      <td>67.880000</td>\n      <td>709.000000</td>\n      <td>99.000000</td>\n      <td>151.000000</td>\n      <td>89.300000</td>\n      <td>65.854000</td>\n      <td>16.667000</td>\n      <td>90.909000</td>\n      <td>70.732000</td>\n    </tr>\n  </tbody>\n</table>\n</div>"
     },
     "metadata": {},
     "execution_count": 25
    }
   ],
   "source": [
    "#Subsetting with selected columns for just the Welfare analysis\n",
    "welfareDF = df_select[[\n",
    "    'party',\n",
    "    'partyname',\n",
    "    'countryname',\n",
    "    'date',\n",
    "    'parfam',\n",
    "    'pervote',\n",
    "    'totseats',\n",
    "    'progtype',\n",
    "    'datasetorigin',\n",
    "    'peruncod',\n",
    "    'per504',\n",
    "    'per505',\n",
    "    'rile',\n",
    "    'welfare',\n",
    "    'datasetversion',\n",
    "    'id_perm'\n",
    "    ]]\n",
    "\n",
    "welfareDF.describe() #basic stats for the columns, overall"
   ]
  },
  {
   "cell_type": "code",
   "execution_count": 26,
   "metadata": {},
   "outputs": [
    {
     "output_type": "execute_result",
     "data": {
      "text/plain": [
       "      party                         partyname countryname    date  parfam  \\\n",
       "1747  34710            Popular Orthodox Rally      Greece  200910      70   \n",
       "1772  34213                   Democratic Left      Greece  201509      20   \n",
       "1775  34340                         The River      Greece  201509      30   \n",
       "1778  34720                       Golden Dawn      Greece  201509      70   \n",
       "1779  34730                Independent Greeks      Greece  201509      70   \n",
       "3478  80951  Movement for Rights and Freedoms    Bulgaria  201410      90   \n",
       "3551  81022         The Only Option Coalition     Croatia  201609      20   \n",
       "\n",
       "      pervote  totseats  progtype  datasetorigin  peruncod  per504  per505  \\\n",
       "1747    5.630     300.0        99             90       NaN     NaN     NaN   \n",
       "1772    0.740     300.0        99            110       NaN     NaN     NaN   \n",
       "1775    3.993     300.0        99            110       NaN     NaN     NaN   \n",
       "1778    6.820     300.0        99            110       NaN     NaN     NaN   \n",
       "1779    3.602     300.0        99            110       NaN     NaN     NaN   \n",
       "3478   14.837     240.0        99            120       NaN     NaN     NaN   \n",
       "3551    6.038     151.0        99            120       NaN     NaN     NaN   \n",
       "\n",
       "      rile  welfare datasetversion id_perm  \n",
       "1747   NaN      NaN          2020b  K7ND2T  \n",
       "1772   NaN      NaN          2020b  9OX5NJ  \n",
       "1775   NaN      NaN          2020b  3Z6DDD  \n",
       "1778   NaN      NaN          2020b  GGNF2Z  \n",
       "1779   NaN      NaN          2020b  3R3Q7O  \n",
       "3478   NaN      NaN          2020b  2USG73  \n",
       "3551   NaN      NaN          2020b  46ES4T  "
      ],
      "text/html": "<div>\n<style scoped>\n    .dataframe tbody tr th:only-of-type {\n        vertical-align: middle;\n    }\n\n    .dataframe tbody tr th {\n        vertical-align: top;\n    }\n\n    .dataframe thead th {\n        text-align: right;\n    }\n</style>\n<table border=\"1\" class=\"dataframe\">\n  <thead>\n    <tr style=\"text-align: right;\">\n      <th></th>\n      <th>party</th>\n      <th>partyname</th>\n      <th>countryname</th>\n      <th>date</th>\n      <th>parfam</th>\n      <th>pervote</th>\n      <th>totseats</th>\n      <th>progtype</th>\n      <th>datasetorigin</th>\n      <th>peruncod</th>\n      <th>per504</th>\n      <th>per505</th>\n      <th>rile</th>\n      <th>welfare</th>\n      <th>datasetversion</th>\n      <th>id_perm</th>\n    </tr>\n  </thead>\n  <tbody>\n    <tr>\n      <th>1747</th>\n      <td>34710</td>\n      <td>Popular Orthodox Rally</td>\n      <td>Greece</td>\n      <td>200910</td>\n      <td>70</td>\n      <td>5.630</td>\n      <td>300.0</td>\n      <td>99</td>\n      <td>90</td>\n      <td>NaN</td>\n      <td>NaN</td>\n      <td>NaN</td>\n      <td>NaN</td>\n      <td>NaN</td>\n      <td>2020b</td>\n      <td>K7ND2T</td>\n    </tr>\n    <tr>\n      <th>1772</th>\n      <td>34213</td>\n      <td>Democratic Left</td>\n      <td>Greece</td>\n      <td>201509</td>\n      <td>20</td>\n      <td>0.740</td>\n      <td>300.0</td>\n      <td>99</td>\n      <td>110</td>\n      <td>NaN</td>\n      <td>NaN</td>\n      <td>NaN</td>\n      <td>NaN</td>\n      <td>NaN</td>\n      <td>2020b</td>\n      <td>9OX5NJ</td>\n    </tr>\n    <tr>\n      <th>1775</th>\n      <td>34340</td>\n      <td>The River</td>\n      <td>Greece</td>\n      <td>201509</td>\n      <td>30</td>\n      <td>3.993</td>\n      <td>300.0</td>\n      <td>99</td>\n      <td>110</td>\n      <td>NaN</td>\n      <td>NaN</td>\n      <td>NaN</td>\n      <td>NaN</td>\n      <td>NaN</td>\n      <td>2020b</td>\n      <td>3Z6DDD</td>\n    </tr>\n    <tr>\n      <th>1778</th>\n      <td>34720</td>\n      <td>Golden Dawn</td>\n      <td>Greece</td>\n      <td>201509</td>\n      <td>70</td>\n      <td>6.820</td>\n      <td>300.0</td>\n      <td>99</td>\n      <td>110</td>\n      <td>NaN</td>\n      <td>NaN</td>\n      <td>NaN</td>\n      <td>NaN</td>\n      <td>NaN</td>\n      <td>2020b</td>\n      <td>GGNF2Z</td>\n    </tr>\n    <tr>\n      <th>1779</th>\n      <td>34730</td>\n      <td>Independent Greeks</td>\n      <td>Greece</td>\n      <td>201509</td>\n      <td>70</td>\n      <td>3.602</td>\n      <td>300.0</td>\n      <td>99</td>\n      <td>110</td>\n      <td>NaN</td>\n      <td>NaN</td>\n      <td>NaN</td>\n      <td>NaN</td>\n      <td>NaN</td>\n      <td>2020b</td>\n      <td>3R3Q7O</td>\n    </tr>\n    <tr>\n      <th>3478</th>\n      <td>80951</td>\n      <td>Movement for Rights and Freedoms</td>\n      <td>Bulgaria</td>\n      <td>201410</td>\n      <td>90</td>\n      <td>14.837</td>\n      <td>240.0</td>\n      <td>99</td>\n      <td>120</td>\n      <td>NaN</td>\n      <td>NaN</td>\n      <td>NaN</td>\n      <td>NaN</td>\n      <td>NaN</td>\n      <td>2020b</td>\n      <td>2USG73</td>\n    </tr>\n    <tr>\n      <th>3551</th>\n      <td>81022</td>\n      <td>The Only Option Coalition</td>\n      <td>Croatia</td>\n      <td>201609</td>\n      <td>20</td>\n      <td>6.038</td>\n      <td>151.0</td>\n      <td>99</td>\n      <td>120</td>\n      <td>NaN</td>\n      <td>NaN</td>\n      <td>NaN</td>\n      <td>NaN</td>\n      <td>NaN</td>\n      <td>2020b</td>\n      <td>46ES4T</td>\n    </tr>\n  </tbody>\n</table>\n</div>"
     },
     "metadata": {},
     "execution_count": 26
    }
   ],
   "source": [
    "#Identifed some unusual counts for some columns\n",
    "welfareDF.rile.isnull()\n",
    "\n",
    "rileMissing = welfareDF[welfareDF.rile.isnull()]\n",
    "rileMissing"
   ]
  },
  {
   "cell_type": "code",
   "execution_count": 27,
   "metadata": {},
   "outputs": [
    {
     "output_type": "execute_result",
     "data": {
      "text/plain": [
       "      party                         partyname countryname    date  parfam  \\\n",
       "1747  34710            Popular Orthodox Rally      Greece  200910      70   \n",
       "1772  34213                   Democratic Left      Greece  201509      20   \n",
       "1775  34340                         The River      Greece  201509      30   \n",
       "1778  34720                       Golden Dawn      Greece  201509      70   \n",
       "1779  34730                Independent Greeks      Greece  201509      70   \n",
       "3478  80951  Movement for Rights and Freedoms    Bulgaria  201410      90   \n",
       "3551  81022         The Only Option Coalition     Croatia  201609      20   \n",
       "\n",
       "      pervote  totseats  progtype  datasetorigin  peruncod  per504  per505  \\\n",
       "1747    5.630     300.0        99             90       NaN     NaN     NaN   \n",
       "1772    0.740     300.0        99            110       NaN     NaN     NaN   \n",
       "1775    3.993     300.0        99            110       NaN     NaN     NaN   \n",
       "1778    6.820     300.0        99            110       NaN     NaN     NaN   \n",
       "1779    3.602     300.0        99            110       NaN     NaN     NaN   \n",
       "3478   14.837     240.0        99            120       NaN     NaN     NaN   \n",
       "3551    6.038     151.0        99            120       NaN     NaN     NaN   \n",
       "\n",
       "      rile  welfare datasetversion id_perm  \n",
       "1747   NaN      NaN          2020b  K7ND2T  \n",
       "1772   NaN      NaN          2020b  9OX5NJ  \n",
       "1775   NaN      NaN          2020b  3Z6DDD  \n",
       "1778   NaN      NaN          2020b  GGNF2Z  \n",
       "1779   NaN      NaN          2020b  3R3Q7O  \n",
       "3478   NaN      NaN          2020b  2USG73  \n",
       "3551   NaN      NaN          2020b  46ES4T  "
      ],
      "text/html": "<div>\n<style scoped>\n    .dataframe tbody tr th:only-of-type {\n        vertical-align: middle;\n    }\n\n    .dataframe tbody tr th {\n        vertical-align: top;\n    }\n\n    .dataframe thead th {\n        text-align: right;\n    }\n</style>\n<table border=\"1\" class=\"dataframe\">\n  <thead>\n    <tr style=\"text-align: right;\">\n      <th></th>\n      <th>party</th>\n      <th>partyname</th>\n      <th>countryname</th>\n      <th>date</th>\n      <th>parfam</th>\n      <th>pervote</th>\n      <th>totseats</th>\n      <th>progtype</th>\n      <th>datasetorigin</th>\n      <th>peruncod</th>\n      <th>per504</th>\n      <th>per505</th>\n      <th>rile</th>\n      <th>welfare</th>\n      <th>datasetversion</th>\n      <th>id_perm</th>\n    </tr>\n  </thead>\n  <tbody>\n    <tr>\n      <th>1747</th>\n      <td>34710</td>\n      <td>Popular Orthodox Rally</td>\n      <td>Greece</td>\n      <td>200910</td>\n      <td>70</td>\n      <td>5.630</td>\n      <td>300.0</td>\n      <td>99</td>\n      <td>90</td>\n      <td>NaN</td>\n      <td>NaN</td>\n      <td>NaN</td>\n      <td>NaN</td>\n      <td>NaN</td>\n      <td>2020b</td>\n      <td>K7ND2T</td>\n    </tr>\n    <tr>\n      <th>1772</th>\n      <td>34213</td>\n      <td>Democratic Left</td>\n      <td>Greece</td>\n      <td>201509</td>\n      <td>20</td>\n      <td>0.740</td>\n      <td>300.0</td>\n      <td>99</td>\n      <td>110</td>\n      <td>NaN</td>\n      <td>NaN</td>\n      <td>NaN</td>\n      <td>NaN</td>\n      <td>NaN</td>\n      <td>2020b</td>\n      <td>9OX5NJ</td>\n    </tr>\n    <tr>\n      <th>1775</th>\n      <td>34340</td>\n      <td>The River</td>\n      <td>Greece</td>\n      <td>201509</td>\n      <td>30</td>\n      <td>3.993</td>\n      <td>300.0</td>\n      <td>99</td>\n      <td>110</td>\n      <td>NaN</td>\n      <td>NaN</td>\n      <td>NaN</td>\n      <td>NaN</td>\n      <td>NaN</td>\n      <td>2020b</td>\n      <td>3Z6DDD</td>\n    </tr>\n    <tr>\n      <th>1778</th>\n      <td>34720</td>\n      <td>Golden Dawn</td>\n      <td>Greece</td>\n      <td>201509</td>\n      <td>70</td>\n      <td>6.820</td>\n      <td>300.0</td>\n      <td>99</td>\n      <td>110</td>\n      <td>NaN</td>\n      <td>NaN</td>\n      <td>NaN</td>\n      <td>NaN</td>\n      <td>NaN</td>\n      <td>2020b</td>\n      <td>GGNF2Z</td>\n    </tr>\n    <tr>\n      <th>1779</th>\n      <td>34730</td>\n      <td>Independent Greeks</td>\n      <td>Greece</td>\n      <td>201509</td>\n      <td>70</td>\n      <td>3.602</td>\n      <td>300.0</td>\n      <td>99</td>\n      <td>110</td>\n      <td>NaN</td>\n      <td>NaN</td>\n      <td>NaN</td>\n      <td>NaN</td>\n      <td>NaN</td>\n      <td>2020b</td>\n      <td>3R3Q7O</td>\n    </tr>\n    <tr>\n      <th>3478</th>\n      <td>80951</td>\n      <td>Movement for Rights and Freedoms</td>\n      <td>Bulgaria</td>\n      <td>201410</td>\n      <td>90</td>\n      <td>14.837</td>\n      <td>240.0</td>\n      <td>99</td>\n      <td>120</td>\n      <td>NaN</td>\n      <td>NaN</td>\n      <td>NaN</td>\n      <td>NaN</td>\n      <td>NaN</td>\n      <td>2020b</td>\n      <td>2USG73</td>\n    </tr>\n    <tr>\n      <th>3551</th>\n      <td>81022</td>\n      <td>The Only Option Coalition</td>\n      <td>Croatia</td>\n      <td>201609</td>\n      <td>20</td>\n      <td>6.038</td>\n      <td>151.0</td>\n      <td>99</td>\n      <td>120</td>\n      <td>NaN</td>\n      <td>NaN</td>\n      <td>NaN</td>\n      <td>NaN</td>\n      <td>NaN</td>\n      <td>2020b</td>\n      <td>46ES4T</td>\n    </tr>\n  </tbody>\n</table>\n</div>"
     },
     "metadata": {},
     "execution_count": 27
    }
   ],
   "source": [
    "#Checking column per504\n",
    "welfareDF.per504.isnull()\n",
    "\n",
    "per504Missing = welfareDF[welfareDF.per504.isnull()]\n",
    "per504Missing"
   ]
  },
  {
   "cell_type": "code",
   "execution_count": 28,
   "metadata": {},
   "outputs": [
    {
     "output_type": "execute_result",
     "data": {
      "text/plain": [
       "      party                         partyname countryname    date  parfam  \\\n",
       "1747  34710            Popular Orthodox Rally      Greece  200910      70   \n",
       "1772  34213                   Democratic Left      Greece  201509      20   \n",
       "1775  34340                         The River      Greece  201509      30   \n",
       "1778  34720                       Golden Dawn      Greece  201509      70   \n",
       "1779  34730                Independent Greeks      Greece  201509      70   \n",
       "3478  80951  Movement for Rights and Freedoms    Bulgaria  201410      90   \n",
       "3551  81022         The Only Option Coalition     Croatia  201609      20   \n",
       "\n",
       "      pervote  totseats  progtype  datasetorigin  peruncod  per504  per505  \\\n",
       "1747    5.630     300.0        99             90       NaN     NaN     NaN   \n",
       "1772    0.740     300.0        99            110       NaN     NaN     NaN   \n",
       "1775    3.993     300.0        99            110       NaN     NaN     NaN   \n",
       "1778    6.820     300.0        99            110       NaN     NaN     NaN   \n",
       "1779    3.602     300.0        99            110       NaN     NaN     NaN   \n",
       "3478   14.837     240.0        99            120       NaN     NaN     NaN   \n",
       "3551    6.038     151.0        99            120       NaN     NaN     NaN   \n",
       "\n",
       "      rile  welfare datasetversion id_perm  \n",
       "1747   NaN      NaN          2020b  K7ND2T  \n",
       "1772   NaN      NaN          2020b  9OX5NJ  \n",
       "1775   NaN      NaN          2020b  3Z6DDD  \n",
       "1778   NaN      NaN          2020b  GGNF2Z  \n",
       "1779   NaN      NaN          2020b  3R3Q7O  \n",
       "3478   NaN      NaN          2020b  2USG73  \n",
       "3551   NaN      NaN          2020b  46ES4T  "
      ],
      "text/html": "<div>\n<style scoped>\n    .dataframe tbody tr th:only-of-type {\n        vertical-align: middle;\n    }\n\n    .dataframe tbody tr th {\n        vertical-align: top;\n    }\n\n    .dataframe thead th {\n        text-align: right;\n    }\n</style>\n<table border=\"1\" class=\"dataframe\">\n  <thead>\n    <tr style=\"text-align: right;\">\n      <th></th>\n      <th>party</th>\n      <th>partyname</th>\n      <th>countryname</th>\n      <th>date</th>\n      <th>parfam</th>\n      <th>pervote</th>\n      <th>totseats</th>\n      <th>progtype</th>\n      <th>datasetorigin</th>\n      <th>peruncod</th>\n      <th>per504</th>\n      <th>per505</th>\n      <th>rile</th>\n      <th>welfare</th>\n      <th>datasetversion</th>\n      <th>id_perm</th>\n    </tr>\n  </thead>\n  <tbody>\n    <tr>\n      <th>1747</th>\n      <td>34710</td>\n      <td>Popular Orthodox Rally</td>\n      <td>Greece</td>\n      <td>200910</td>\n      <td>70</td>\n      <td>5.630</td>\n      <td>300.0</td>\n      <td>99</td>\n      <td>90</td>\n      <td>NaN</td>\n      <td>NaN</td>\n      <td>NaN</td>\n      <td>NaN</td>\n      <td>NaN</td>\n      <td>2020b</td>\n      <td>K7ND2T</td>\n    </tr>\n    <tr>\n      <th>1772</th>\n      <td>34213</td>\n      <td>Democratic Left</td>\n      <td>Greece</td>\n      <td>201509</td>\n      <td>20</td>\n      <td>0.740</td>\n      <td>300.0</td>\n      <td>99</td>\n      <td>110</td>\n      <td>NaN</td>\n      <td>NaN</td>\n      <td>NaN</td>\n      <td>NaN</td>\n      <td>NaN</td>\n      <td>2020b</td>\n      <td>9OX5NJ</td>\n    </tr>\n    <tr>\n      <th>1775</th>\n      <td>34340</td>\n      <td>The River</td>\n      <td>Greece</td>\n      <td>201509</td>\n      <td>30</td>\n      <td>3.993</td>\n      <td>300.0</td>\n      <td>99</td>\n      <td>110</td>\n      <td>NaN</td>\n      <td>NaN</td>\n      <td>NaN</td>\n      <td>NaN</td>\n      <td>NaN</td>\n      <td>2020b</td>\n      <td>3Z6DDD</td>\n    </tr>\n    <tr>\n      <th>1778</th>\n      <td>34720</td>\n      <td>Golden Dawn</td>\n      <td>Greece</td>\n      <td>201509</td>\n      <td>70</td>\n      <td>6.820</td>\n      <td>300.0</td>\n      <td>99</td>\n      <td>110</td>\n      <td>NaN</td>\n      <td>NaN</td>\n      <td>NaN</td>\n      <td>NaN</td>\n      <td>NaN</td>\n      <td>2020b</td>\n      <td>GGNF2Z</td>\n    </tr>\n    <tr>\n      <th>1779</th>\n      <td>34730</td>\n      <td>Independent Greeks</td>\n      <td>Greece</td>\n      <td>201509</td>\n      <td>70</td>\n      <td>3.602</td>\n      <td>300.0</td>\n      <td>99</td>\n      <td>110</td>\n      <td>NaN</td>\n      <td>NaN</td>\n      <td>NaN</td>\n      <td>NaN</td>\n      <td>NaN</td>\n      <td>2020b</td>\n      <td>3R3Q7O</td>\n    </tr>\n    <tr>\n      <th>3478</th>\n      <td>80951</td>\n      <td>Movement for Rights and Freedoms</td>\n      <td>Bulgaria</td>\n      <td>201410</td>\n      <td>90</td>\n      <td>14.837</td>\n      <td>240.0</td>\n      <td>99</td>\n      <td>120</td>\n      <td>NaN</td>\n      <td>NaN</td>\n      <td>NaN</td>\n      <td>NaN</td>\n      <td>NaN</td>\n      <td>2020b</td>\n      <td>2USG73</td>\n    </tr>\n    <tr>\n      <th>3551</th>\n      <td>81022</td>\n      <td>The Only Option Coalition</td>\n      <td>Croatia</td>\n      <td>201609</td>\n      <td>20</td>\n      <td>6.038</td>\n      <td>151.0</td>\n      <td>99</td>\n      <td>120</td>\n      <td>NaN</td>\n      <td>NaN</td>\n      <td>NaN</td>\n      <td>NaN</td>\n      <td>NaN</td>\n      <td>2020b</td>\n      <td>46ES4T</td>\n    </tr>\n  </tbody>\n</table>\n</div>"
     },
     "metadata": {},
     "execution_count": 28
    }
   ],
   "source": [
    "#Checking column per505\n",
    "welfareDF.per505.isnull()\n",
    "\n",
    "per505Missing = welfareDF[welfareDF.per505.isnull()]\n",
    "per505Missing"
   ]
  },
  {
   "cell_type": "code",
   "execution_count": 29,
   "metadata": {},
   "outputs": [
    {
     "output_type": "execute_result",
     "data": {
      "text/plain": [
       "   party                       partyname countryname    date  parfam  pervote  \\\n",
       "0  11220       Communist Party of Sweden      Sweden  194409      20     10.3   \n",
       "1  11320  Social Democratic Labour Party      Sweden  194409      30     46.5   \n",
       "2  11420                  People’s Party      Sweden  194409      40     12.9   \n",
       "3  11620                     Right Party      Sweden  194409      60     15.8   \n",
       "4  11810                  Agrarian Party      Sweden  194409      80     13.6   \n",
       "\n",
       "   totseats  progtype  datasetorigin  peruncod  per504  per505   rile  \\\n",
       "0     230.0         1             41       NaN     0.0     0.0   9.60   \n",
       "1     230.0         1             41       NaN    27.8     0.0 -37.80   \n",
       "2     230.0         1             41       NaN    12.7     0.0   9.50   \n",
       "3     230.0         1             41       NaN     5.3     0.0  28.00   \n",
       "4     230.0         1             41    42.857     0.0     0.0  23.81   \n",
       "\n",
       "   welfare datasetversion id_perm  \n",
       "0      0.0          2020b  JN1LZH  \n",
       "1     33.4          2020b  CMR7F6  \n",
       "2     14.3          2020b  Z6OL6C  \n",
       "3     10.6          2020b  YMKVN2  \n",
       "4      0.0          2020b  U4SCRD  "
      ],
      "text/html": "<div>\n<style scoped>\n    .dataframe tbody tr th:only-of-type {\n        vertical-align: middle;\n    }\n\n    .dataframe tbody tr th {\n        vertical-align: top;\n    }\n\n    .dataframe thead th {\n        text-align: right;\n    }\n</style>\n<table border=\"1\" class=\"dataframe\">\n  <thead>\n    <tr style=\"text-align: right;\">\n      <th></th>\n      <th>party</th>\n      <th>partyname</th>\n      <th>countryname</th>\n      <th>date</th>\n      <th>parfam</th>\n      <th>pervote</th>\n      <th>totseats</th>\n      <th>progtype</th>\n      <th>datasetorigin</th>\n      <th>peruncod</th>\n      <th>per504</th>\n      <th>per505</th>\n      <th>rile</th>\n      <th>welfare</th>\n      <th>datasetversion</th>\n      <th>id_perm</th>\n    </tr>\n  </thead>\n  <tbody>\n    <tr>\n      <th>0</th>\n      <td>11220</td>\n      <td>Communist Party of Sweden</td>\n      <td>Sweden</td>\n      <td>194409</td>\n      <td>20</td>\n      <td>10.3</td>\n      <td>230.0</td>\n      <td>1</td>\n      <td>41</td>\n      <td>NaN</td>\n      <td>0.0</td>\n      <td>0.0</td>\n      <td>9.60</td>\n      <td>0.0</td>\n      <td>2020b</td>\n      <td>JN1LZH</td>\n    </tr>\n    <tr>\n      <th>1</th>\n      <td>11320</td>\n      <td>Social Democratic Labour Party</td>\n      <td>Sweden</td>\n      <td>194409</td>\n      <td>30</td>\n      <td>46.5</td>\n      <td>230.0</td>\n      <td>1</td>\n      <td>41</td>\n      <td>NaN</td>\n      <td>27.8</td>\n      <td>0.0</td>\n      <td>-37.80</td>\n      <td>33.4</td>\n      <td>2020b</td>\n      <td>CMR7F6</td>\n    </tr>\n    <tr>\n      <th>2</th>\n      <td>11420</td>\n      <td>People’s Party</td>\n      <td>Sweden</td>\n      <td>194409</td>\n      <td>40</td>\n      <td>12.9</td>\n      <td>230.0</td>\n      <td>1</td>\n      <td>41</td>\n      <td>NaN</td>\n      <td>12.7</td>\n      <td>0.0</td>\n      <td>9.50</td>\n      <td>14.3</td>\n      <td>2020b</td>\n      <td>Z6OL6C</td>\n    </tr>\n    <tr>\n      <th>3</th>\n      <td>11620</td>\n      <td>Right Party</td>\n      <td>Sweden</td>\n      <td>194409</td>\n      <td>60</td>\n      <td>15.8</td>\n      <td>230.0</td>\n      <td>1</td>\n      <td>41</td>\n      <td>NaN</td>\n      <td>5.3</td>\n      <td>0.0</td>\n      <td>28.00</td>\n      <td>10.6</td>\n      <td>2020b</td>\n      <td>YMKVN2</td>\n    </tr>\n    <tr>\n      <th>4</th>\n      <td>11810</td>\n      <td>Agrarian Party</td>\n      <td>Sweden</td>\n      <td>194409</td>\n      <td>80</td>\n      <td>13.6</td>\n      <td>230.0</td>\n      <td>1</td>\n      <td>41</td>\n      <td>42.857</td>\n      <td>0.0</td>\n      <td>0.0</td>\n      <td>23.81</td>\n      <td>0.0</td>\n      <td>2020b</td>\n      <td>U4SCRD</td>\n    </tr>\n  </tbody>\n</table>\n</div>"
     },
     "metadata": {},
     "execution_count": 29
    }
   ],
   "source": [
    "#All 3 essential columns for analysis have NaN values for the same 7 instances, so excluding them\n",
    "missingValues = list(rileMissing.party)\n",
    "\n",
    "#remove 7 rows\n",
    "welfareDF2 = welfareDF[~welfareDF.party.isin(missingValues)]\n",
    "welfareDF2.head()\n",
    "\n",
    "# #Check 7 rows are gone >\n",
    "# welfareDF2.rile.isnull()\n",
    "\n",
    "# rileMissing2 = welfareDF2[welfareDF2.rile.isnull()]\n",
    "# rileMissing2\n"
   ]
  },
  {
   "cell_type": "code",
   "execution_count": 30,
   "metadata": {},
   "outputs": [
    {
     "output_type": "stream",
     "name": "stderr",
     "text": [
      "<ipython-input-30-9f4228ecae27>:4: SettingWithCopyWarning: \nA value is trying to be set on a copy of a slice from a DataFrame.\nTry using .loc[row_indexer,col_indexer] = value instead\n\nSee the caveats in the documentation: https://pandas.pydata.org/pandas-docs/stable/user_guide/indexing.html#returning-a-view-versus-a-copy\n  welfareDF2['date'] = pd.to_datetime(welfareDF2['date'], format='%Y%m')\n<ipython-input-30-9f4228ecae27>:5: SettingWithCopyWarning: \nA value is trying to be set on a copy of a slice from a DataFrame.\nTry using .loc[row_indexer,col_indexer] = value instead\n\nSee the caveats in the documentation: https://pandas.pydata.org/pandas-docs/stable/user_guide/indexing.html#returning-a-view-versus-a-copy\n  welfareDF2['date'] = welfareDF2[\"date\"].dt.strftime(\"%B %Y\")\n"
     ]
    },
    {
     "output_type": "error",
     "ename": "AttributeError",
     "evalue": "Can only use .dt accessor with datetimelike values",
     "traceback": [
      "\u001b[0;31m---------------------------------------------------------------------------\u001b[0m",
      "\u001b[0;31mAttributeError\u001b[0m                            Traceback (most recent call last)",
      "\u001b[0;32m<ipython-input-30-9f4228ecae27>\u001b[0m in \u001b[0;36m<module>\u001b[0;34m\u001b[0m\n\u001b[1;32m      4\u001b[0m \u001b[0mwelfareDF2\u001b[0m\u001b[0;34m[\u001b[0m\u001b[0;34m'date'\u001b[0m\u001b[0;34m]\u001b[0m \u001b[0;34m=\u001b[0m \u001b[0mpd\u001b[0m\u001b[0;34m.\u001b[0m\u001b[0mto_datetime\u001b[0m\u001b[0;34m(\u001b[0m\u001b[0mwelfareDF2\u001b[0m\u001b[0;34m[\u001b[0m\u001b[0;34m'date'\u001b[0m\u001b[0;34m]\u001b[0m\u001b[0;34m,\u001b[0m \u001b[0mformat\u001b[0m\u001b[0;34m=\u001b[0m\u001b[0;34m'%Y%m'\u001b[0m\u001b[0;34m)\u001b[0m\u001b[0;34m\u001b[0m\u001b[0;34m\u001b[0m\u001b[0m\n\u001b[1;32m      5\u001b[0m \u001b[0mwelfareDF2\u001b[0m\u001b[0;34m[\u001b[0m\u001b[0;34m'date'\u001b[0m\u001b[0;34m]\u001b[0m \u001b[0;34m=\u001b[0m \u001b[0mwelfareDF2\u001b[0m\u001b[0;34m[\u001b[0m\u001b[0;34m\"date\"\u001b[0m\u001b[0;34m]\u001b[0m\u001b[0;34m.\u001b[0m\u001b[0mdt\u001b[0m\u001b[0;34m.\u001b[0m\u001b[0mstrftime\u001b[0m\u001b[0;34m(\u001b[0m\u001b[0;34m\"%B %Y\"\u001b[0m\u001b[0;34m)\u001b[0m\u001b[0;34m\u001b[0m\u001b[0;34m\u001b[0m\u001b[0m\n\u001b[0;32m----> 6\u001b[0;31m \u001b[0mwelfareDF2\u001b[0m\u001b[0;34m[\u001b[0m\u001b[0;34m'year'\u001b[0m\u001b[0;34m]\u001b[0m \u001b[0;34m=\u001b[0m \u001b[0mwelfareDF2\u001b[0m\u001b[0;34m[\u001b[0m\u001b[0;34m\"date\"\u001b[0m\u001b[0;34m]\u001b[0m\u001b[0;34m.\u001b[0m\u001b[0mdt\u001b[0m\u001b[0;34m.\u001b[0m\u001b[0mstrftime\u001b[0m\u001b[0;34m(\u001b[0m\u001b[0;34m\"%Y\"\u001b[0m\u001b[0;34m)\u001b[0m\u001b[0;34m\u001b[0m\u001b[0;34m\u001b[0m\u001b[0m\n\u001b[0m\u001b[1;32m      7\u001b[0m \u001b[0mwelfareDF2\u001b[0m\u001b[0;34m[\u001b[0m\u001b[0;34m'month'\u001b[0m\u001b[0;34m]\u001b[0m \u001b[0;34m=\u001b[0m \u001b[0mwelfareDF2\u001b[0m\u001b[0;34m[\u001b[0m\u001b[0;34m\"date\"\u001b[0m\u001b[0;34m]\u001b[0m\u001b[0;34m.\u001b[0m\u001b[0mdt\u001b[0m\u001b[0;34m.\u001b[0m\u001b[0mstrftime\u001b[0m\u001b[0;34m(\u001b[0m\u001b[0;34m\"%m\"\u001b[0m\u001b[0;34m)\u001b[0m\u001b[0;34m\u001b[0m\u001b[0;34m\u001b[0m\u001b[0m\n",
      "\u001b[0;32m/opt/anaconda3/lib/python3.8/site-packages/pandas/core/generic.py\u001b[0m in \u001b[0;36m__getattr__\u001b[0;34m(self, name)\u001b[0m\n\u001b[1;32m   5268\u001b[0m             \u001b[0;32mor\u001b[0m \u001b[0mname\u001b[0m \u001b[0;32min\u001b[0m \u001b[0mself\u001b[0m\u001b[0;34m.\u001b[0m\u001b[0m_accessors\u001b[0m\u001b[0;34m\u001b[0m\u001b[0;34m\u001b[0m\u001b[0m\n\u001b[1;32m   5269\u001b[0m         ):\n\u001b[0;32m-> 5270\u001b[0;31m             \u001b[0;32mreturn\u001b[0m \u001b[0mobject\u001b[0m\u001b[0;34m.\u001b[0m\u001b[0m__getattribute__\u001b[0m\u001b[0;34m(\u001b[0m\u001b[0mself\u001b[0m\u001b[0;34m,\u001b[0m \u001b[0mname\u001b[0m\u001b[0;34m)\u001b[0m\u001b[0;34m\u001b[0m\u001b[0;34m\u001b[0m\u001b[0m\n\u001b[0m\u001b[1;32m   5271\u001b[0m         \u001b[0;32melse\u001b[0m\u001b[0;34m:\u001b[0m\u001b[0;34m\u001b[0m\u001b[0;34m\u001b[0m\u001b[0m\n\u001b[1;32m   5272\u001b[0m             \u001b[0;32mif\u001b[0m \u001b[0mself\u001b[0m\u001b[0;34m.\u001b[0m\u001b[0m_info_axis\u001b[0m\u001b[0;34m.\u001b[0m\u001b[0m_can_hold_identifiers_and_holds_name\u001b[0m\u001b[0;34m(\u001b[0m\u001b[0mname\u001b[0m\u001b[0;34m)\u001b[0m\u001b[0;34m:\u001b[0m\u001b[0;34m\u001b[0m\u001b[0;34m\u001b[0m\u001b[0m\n",
      "\u001b[0;32m/opt/anaconda3/lib/python3.8/site-packages/pandas/core/accessor.py\u001b[0m in \u001b[0;36m__get__\u001b[0;34m(self, obj, cls)\u001b[0m\n\u001b[1;32m    185\u001b[0m             \u001b[0;31m# we're accessing the attribute of the class, i.e., Dataset.geo\u001b[0m\u001b[0;34m\u001b[0m\u001b[0;34m\u001b[0m\u001b[0;34m\u001b[0m\u001b[0m\n\u001b[1;32m    186\u001b[0m             \u001b[0;32mreturn\u001b[0m \u001b[0mself\u001b[0m\u001b[0;34m.\u001b[0m\u001b[0m_accessor\u001b[0m\u001b[0;34m\u001b[0m\u001b[0;34m\u001b[0m\u001b[0m\n\u001b[0;32m--> 187\u001b[0;31m         \u001b[0maccessor_obj\u001b[0m \u001b[0;34m=\u001b[0m \u001b[0mself\u001b[0m\u001b[0;34m.\u001b[0m\u001b[0m_accessor\u001b[0m\u001b[0;34m(\u001b[0m\u001b[0mobj\u001b[0m\u001b[0;34m)\u001b[0m\u001b[0;34m\u001b[0m\u001b[0;34m\u001b[0m\u001b[0m\n\u001b[0m\u001b[1;32m    188\u001b[0m         \u001b[0;31m# Replace the property with the accessor object. Inspired by:\u001b[0m\u001b[0;34m\u001b[0m\u001b[0;34m\u001b[0m\u001b[0;34m\u001b[0m\u001b[0m\n\u001b[1;32m    189\u001b[0m         \u001b[0;31m# http://www.pydanny.com/cached-property.html\u001b[0m\u001b[0;34m\u001b[0m\u001b[0;34m\u001b[0m\u001b[0;34m\u001b[0m\u001b[0m\n",
      "\u001b[0;32m/opt/anaconda3/lib/python3.8/site-packages/pandas/core/indexes/accessors.py\u001b[0m in \u001b[0;36m__new__\u001b[0;34m(cls, data)\u001b[0m\n\u001b[1;32m    336\u001b[0m             \u001b[0;32mreturn\u001b[0m \u001b[0mDatetimeProperties\u001b[0m\u001b[0;34m(\u001b[0m\u001b[0mdata\u001b[0m\u001b[0;34m,\u001b[0m \u001b[0morig\u001b[0m\u001b[0;34m)\u001b[0m\u001b[0;34m\u001b[0m\u001b[0;34m\u001b[0m\u001b[0m\n\u001b[1;32m    337\u001b[0m \u001b[0;34m\u001b[0m\u001b[0m\n\u001b[0;32m--> 338\u001b[0;31m         \u001b[0;32mraise\u001b[0m \u001b[0mAttributeError\u001b[0m\u001b[0;34m(\u001b[0m\u001b[0;34m\"Can only use .dt accessor with datetimelike values\"\u001b[0m\u001b[0;34m)\u001b[0m\u001b[0;34m\u001b[0m\u001b[0;34m\u001b[0m\u001b[0m\n\u001b[0m",
      "\u001b[0;31mAttributeError\u001b[0m: Can only use .dt accessor with datetimelike values"
     ]
    }
   ],
   "source": [
    "#convert date\n",
    "import datetime\n",
    "\n",
    "welfareDF2['date'] = pd.to_datetime(welfareDF2['date'], format='%Y%m')\n",
    "welfareDF2['date'] = welfareDF2[\"date\"].dt.strftime(\"%B %Y\")\n",
    "welfareDF2['year'] = welfareDF2[\"date\"].dt.strftime(\"%Y\")\n",
    "welfareDF2['month'] = welfareDF2[\"date\"].dt.strftime(\"%m\")"
   ]
  },
  {
   "cell_type": "code",
   "execution_count": 18,
   "metadata": {},
   "outputs": [
    {
     "output_type": "execute_result",
     "data": {
      "text/plain": [
       "     party                  partyname countryname     date  parfam  pervote  \\\n",
       "0    11220  Communist Party of Sweden      Sweden  09/1944      20   10.300   \n",
       "5    11220  Communist Party of Sweden      Sweden  09/1948      20    6.312   \n",
       "10   11220  Communist Party of Sweden      Sweden  09/1952      20    4.340   \n",
       "15   11220  Communist Party of Sweden      Sweden  09/1956      20    5.001   \n",
       "20   11220  Communist Party of Sweden      Sweden  06/1958      20    3.364   \n",
       "25   11220  Communist Party of Sweden      Sweden  09/1960      20    4.479   \n",
       "30   11220  Communist Party of Sweden      Sweden  09/1964      20    5.223   \n",
       "35   11220      Left Communists Party      Sweden  09/1968      20    3.006   \n",
       "40   11220      Left Communists Party      Sweden  09/1970      20    4.756   \n",
       "45   11220      Left Communists Party      Sweden  09/1973      20    5.328   \n",
       "50   11220      Left Communists Party      Sweden  09/1976      20    4.753   \n",
       "55   11220      Left Communists Party      Sweden  09/1979      20    5.605   \n",
       "60   11220      Left Communists Party      Sweden  09/1982      20    5.561   \n",
       "65   11220      Left Communists Party      Sweden  09/1985      20    5.360   \n",
       "72   11220      Left Communists Party      Sweden  09/1988      20    5.844   \n",
       "78   11220                 Left Party      Sweden  09/1991      20    4.513   \n",
       "86   11220                 Left Party      Sweden  09/1994      20    6.174   \n",
       "93   11220                 Left Party      Sweden  09/1998      20   11.990   \n",
       "100  11220                 Left Party      Sweden  09/2002      20    8.388   \n",
       "107  11220                 Left Party      Sweden  09/2006      20    5.850   \n",
       "114  11220                 Left Party      Sweden  09/2010      20    5.600   \n",
       "122  11220                 Left Party      Sweden  09/2014      20    5.718   \n",
       "130  11220                 Left Party      Sweden  09/2018      20    8.005   \n",
       "\n",
       "     totseats  progtype  datasetorigin  peruncod  per504  per505    rile  \\\n",
       "0       230.0         1             41       NaN   0.000     0.0   9.600   \n",
       "5       230.0         1             10       NaN  12.000     0.0 -44.000   \n",
       "10      230.0         1             10       NaN   7.700     0.0 -40.700   \n",
       "15      231.0         1             10       NaN  12.600     0.0 -46.200   \n",
       "20      231.0         1             10       NaN  26.300     0.0 -41.700   \n",
       "25      232.0         1             10       NaN   7.100     0.0 -40.500   \n",
       "30      233.0         1             10       NaN  15.500     0.0 -50.000   \n",
       "35      233.0         1             10       NaN   5.300     0.0 -46.900   \n",
       "40      350.0         1             10       NaN   0.000     0.0 -40.900   \n",
       "45      350.0         1             10       NaN   8.300     0.0 -43.000   \n",
       "50      349.0         1             10       NaN   2.700     0.5 -38.300   \n",
       "55      349.0         1             10       NaN  10.300     0.0 -47.300   \n",
       "60      349.0         1             10       NaN  10.100     0.0 -39.700   \n",
       "65      349.0         1             10    27.500   5.500     0.0 -36.700   \n",
       "72      349.0         1             10    23.600  10.000     0.0 -37.400   \n",
       "78      349.0         1             10    10.145   9.420     0.0 -42.754   \n",
       "86      349.0         1             10     9.659   5.682     0.0 -27.273   \n",
       "93      349.0         1             10     9.668  12.387     0.0 -35.952   \n",
       "100     349.0         1             20     7.617   8.354     0.0 -33.661   \n",
       "107     349.0         1             40     0.000  11.568     0.0 -35.990   \n",
       "114     349.0         1             51     0.000  16.142     0.0 -12.205   \n",
       "122     349.0         1            121     0.278  19.722     0.0 -33.889   \n",
       "130     349.0         1            140     0.457  17.530     0.0 -40.701   \n",
       "\n",
       "     welfare datasetversion id_perm  year month  \n",
       "0      0.000          2020b  JN1LZH  1944    09  \n",
       "5     18.000          2020b  KU4SLH  1948    09  \n",
       "10     8.800          2020b  8Y82JK  1952    09  \n",
       "15    23.500          2020b  8S4LJX  1956    09  \n",
       "20    30.300          2020b  31QUMF  1958    06  \n",
       "25     9.500          2020b  5DKDUG  1960    09  \n",
       "30    15.500          2020b  U347B6  1964    09  \n",
       "35    17.400          2020b  GE91TL  1968    09  \n",
       "40    12.800          2020b  ITVQQU  1970    09  \n",
       "45    10.800          2020b  Q8SQG2  1973    09  \n",
       "50    13.500          2020b  9VDD8H  1976    09  \n",
       "55    24.700          2020b  VWR1J4  1979    09  \n",
       "60    23.600          2020b  2RYB7C  1982    09  \n",
       "65    19.100          2020b  JPDZD4  1985    09  \n",
       "72    16.100          2020b  DAW5CC  1988    09  \n",
       "78    17.391          2020b  PRUMVE  1991    09  \n",
       "86    26.705          2020b  4RH3OM  1994    09  \n",
       "93    26.586          2020b  AV7RGX  1998    09  \n",
       "100   23.587          2020b  QLAVSZ  2002    09  \n",
       "107   24.679          2020b  PNMPGP  2006    09  \n",
       "114   32.677          2020b  A6M62C  2010    09  \n",
       "122   35.556          2020b  KUI4MG  2014    09  \n",
       "130   37.652          2020b  IJRAPK  2018    09  "
      ],
      "text/html": "<div>\n<style scoped>\n    .dataframe tbody tr th:only-of-type {\n        vertical-align: middle;\n    }\n\n    .dataframe tbody tr th {\n        vertical-align: top;\n    }\n\n    .dataframe thead th {\n        text-align: right;\n    }\n</style>\n<table border=\"1\" class=\"dataframe\">\n  <thead>\n    <tr style=\"text-align: right;\">\n      <th></th>\n      <th>party</th>\n      <th>partyname</th>\n      <th>countryname</th>\n      <th>date</th>\n      <th>parfam</th>\n      <th>pervote</th>\n      <th>totseats</th>\n      <th>progtype</th>\n      <th>datasetorigin</th>\n      <th>peruncod</th>\n      <th>per504</th>\n      <th>per505</th>\n      <th>rile</th>\n      <th>welfare</th>\n      <th>datasetversion</th>\n      <th>id_perm</th>\n      <th>year</th>\n      <th>month</th>\n    </tr>\n  </thead>\n  <tbody>\n    <tr>\n      <th>0</th>\n      <td>11220</td>\n      <td>Communist Party of Sweden</td>\n      <td>Sweden</td>\n      <td>09/1944</td>\n      <td>20</td>\n      <td>10.300</td>\n      <td>230.0</td>\n      <td>1</td>\n      <td>41</td>\n      <td>NaN</td>\n      <td>0.000</td>\n      <td>0.0</td>\n      <td>9.600</td>\n      <td>0.000</td>\n      <td>2020b</td>\n      <td>JN1LZH</td>\n      <td>1944</td>\n      <td>09</td>\n    </tr>\n    <tr>\n      <th>5</th>\n      <td>11220</td>\n      <td>Communist Party of Sweden</td>\n      <td>Sweden</td>\n      <td>09/1948</td>\n      <td>20</td>\n      <td>6.312</td>\n      <td>230.0</td>\n      <td>1</td>\n      <td>10</td>\n      <td>NaN</td>\n      <td>12.000</td>\n      <td>0.0</td>\n      <td>-44.000</td>\n      <td>18.000</td>\n      <td>2020b</td>\n      <td>KU4SLH</td>\n      <td>1948</td>\n      <td>09</td>\n    </tr>\n    <tr>\n      <th>10</th>\n      <td>11220</td>\n      <td>Communist Party of Sweden</td>\n      <td>Sweden</td>\n      <td>09/1952</td>\n      <td>20</td>\n      <td>4.340</td>\n      <td>230.0</td>\n      <td>1</td>\n      <td>10</td>\n      <td>NaN</td>\n      <td>7.700</td>\n      <td>0.0</td>\n      <td>-40.700</td>\n      <td>8.800</td>\n      <td>2020b</td>\n      <td>8Y82JK</td>\n      <td>1952</td>\n      <td>09</td>\n    </tr>\n    <tr>\n      <th>15</th>\n      <td>11220</td>\n      <td>Communist Party of Sweden</td>\n      <td>Sweden</td>\n      <td>09/1956</td>\n      <td>20</td>\n      <td>5.001</td>\n      <td>231.0</td>\n      <td>1</td>\n      <td>10</td>\n      <td>NaN</td>\n      <td>12.600</td>\n      <td>0.0</td>\n      <td>-46.200</td>\n      <td>23.500</td>\n      <td>2020b</td>\n      <td>8S4LJX</td>\n      <td>1956</td>\n      <td>09</td>\n    </tr>\n    <tr>\n      <th>20</th>\n      <td>11220</td>\n      <td>Communist Party of Sweden</td>\n      <td>Sweden</td>\n      <td>06/1958</td>\n      <td>20</td>\n      <td>3.364</td>\n      <td>231.0</td>\n      <td>1</td>\n      <td>10</td>\n      <td>NaN</td>\n      <td>26.300</td>\n      <td>0.0</td>\n      <td>-41.700</td>\n      <td>30.300</td>\n      <td>2020b</td>\n      <td>31QUMF</td>\n      <td>1958</td>\n      <td>06</td>\n    </tr>\n    <tr>\n      <th>25</th>\n      <td>11220</td>\n      <td>Communist Party of Sweden</td>\n      <td>Sweden</td>\n      <td>09/1960</td>\n      <td>20</td>\n      <td>4.479</td>\n      <td>232.0</td>\n      <td>1</td>\n      <td>10</td>\n      <td>NaN</td>\n      <td>7.100</td>\n      <td>0.0</td>\n      <td>-40.500</td>\n      <td>9.500</td>\n      <td>2020b</td>\n      <td>5DKDUG</td>\n      <td>1960</td>\n      <td>09</td>\n    </tr>\n    <tr>\n      <th>30</th>\n      <td>11220</td>\n      <td>Communist Party of Sweden</td>\n      <td>Sweden</td>\n      <td>09/1964</td>\n      <td>20</td>\n      <td>5.223</td>\n      <td>233.0</td>\n      <td>1</td>\n      <td>10</td>\n      <td>NaN</td>\n      <td>15.500</td>\n      <td>0.0</td>\n      <td>-50.000</td>\n      <td>15.500</td>\n      <td>2020b</td>\n      <td>U347B6</td>\n      <td>1964</td>\n      <td>09</td>\n    </tr>\n    <tr>\n      <th>35</th>\n      <td>11220</td>\n      <td>Left Communists Party</td>\n      <td>Sweden</td>\n      <td>09/1968</td>\n      <td>20</td>\n      <td>3.006</td>\n      <td>233.0</td>\n      <td>1</td>\n      <td>10</td>\n      <td>NaN</td>\n      <td>5.300</td>\n      <td>0.0</td>\n      <td>-46.900</td>\n      <td>17.400</td>\n      <td>2020b</td>\n      <td>GE91TL</td>\n      <td>1968</td>\n      <td>09</td>\n    </tr>\n    <tr>\n      <th>40</th>\n      <td>11220</td>\n      <td>Left Communists Party</td>\n      <td>Sweden</td>\n      <td>09/1970</td>\n      <td>20</td>\n      <td>4.756</td>\n      <td>350.0</td>\n      <td>1</td>\n      <td>10</td>\n      <td>NaN</td>\n      <td>0.000</td>\n      <td>0.0</td>\n      <td>-40.900</td>\n      <td>12.800</td>\n      <td>2020b</td>\n      <td>ITVQQU</td>\n      <td>1970</td>\n      <td>09</td>\n    </tr>\n    <tr>\n      <th>45</th>\n      <td>11220</td>\n      <td>Left Communists Party</td>\n      <td>Sweden</td>\n      <td>09/1973</td>\n      <td>20</td>\n      <td>5.328</td>\n      <td>350.0</td>\n      <td>1</td>\n      <td>10</td>\n      <td>NaN</td>\n      <td>8.300</td>\n      <td>0.0</td>\n      <td>-43.000</td>\n      <td>10.800</td>\n      <td>2020b</td>\n      <td>Q8SQG2</td>\n      <td>1973</td>\n      <td>09</td>\n    </tr>\n    <tr>\n      <th>50</th>\n      <td>11220</td>\n      <td>Left Communists Party</td>\n      <td>Sweden</td>\n      <td>09/1976</td>\n      <td>20</td>\n      <td>4.753</td>\n      <td>349.0</td>\n      <td>1</td>\n      <td>10</td>\n      <td>NaN</td>\n      <td>2.700</td>\n      <td>0.5</td>\n      <td>-38.300</td>\n      <td>13.500</td>\n      <td>2020b</td>\n      <td>9VDD8H</td>\n      <td>1976</td>\n      <td>09</td>\n    </tr>\n    <tr>\n      <th>55</th>\n      <td>11220</td>\n      <td>Left Communists Party</td>\n      <td>Sweden</td>\n      <td>09/1979</td>\n      <td>20</td>\n      <td>5.605</td>\n      <td>349.0</td>\n      <td>1</td>\n      <td>10</td>\n      <td>NaN</td>\n      <td>10.300</td>\n      <td>0.0</td>\n      <td>-47.300</td>\n      <td>24.700</td>\n      <td>2020b</td>\n      <td>VWR1J4</td>\n      <td>1979</td>\n      <td>09</td>\n    </tr>\n    <tr>\n      <th>60</th>\n      <td>11220</td>\n      <td>Left Communists Party</td>\n      <td>Sweden</td>\n      <td>09/1982</td>\n      <td>20</td>\n      <td>5.561</td>\n      <td>349.0</td>\n      <td>1</td>\n      <td>10</td>\n      <td>NaN</td>\n      <td>10.100</td>\n      <td>0.0</td>\n      <td>-39.700</td>\n      <td>23.600</td>\n      <td>2020b</td>\n      <td>2RYB7C</td>\n      <td>1982</td>\n      <td>09</td>\n    </tr>\n    <tr>\n      <th>65</th>\n      <td>11220</td>\n      <td>Left Communists Party</td>\n      <td>Sweden</td>\n      <td>09/1985</td>\n      <td>20</td>\n      <td>5.360</td>\n      <td>349.0</td>\n      <td>1</td>\n      <td>10</td>\n      <td>27.500</td>\n      <td>5.500</td>\n      <td>0.0</td>\n      <td>-36.700</td>\n      <td>19.100</td>\n      <td>2020b</td>\n      <td>JPDZD4</td>\n      <td>1985</td>\n      <td>09</td>\n    </tr>\n    <tr>\n      <th>72</th>\n      <td>11220</td>\n      <td>Left Communists Party</td>\n      <td>Sweden</td>\n      <td>09/1988</td>\n      <td>20</td>\n      <td>5.844</td>\n      <td>349.0</td>\n      <td>1</td>\n      <td>10</td>\n      <td>23.600</td>\n      <td>10.000</td>\n      <td>0.0</td>\n      <td>-37.400</td>\n      <td>16.100</td>\n      <td>2020b</td>\n      <td>DAW5CC</td>\n      <td>1988</td>\n      <td>09</td>\n    </tr>\n    <tr>\n      <th>78</th>\n      <td>11220</td>\n      <td>Left Party</td>\n      <td>Sweden</td>\n      <td>09/1991</td>\n      <td>20</td>\n      <td>4.513</td>\n      <td>349.0</td>\n      <td>1</td>\n      <td>10</td>\n      <td>10.145</td>\n      <td>9.420</td>\n      <td>0.0</td>\n      <td>-42.754</td>\n      <td>17.391</td>\n      <td>2020b</td>\n      <td>PRUMVE</td>\n      <td>1991</td>\n      <td>09</td>\n    </tr>\n    <tr>\n      <th>86</th>\n      <td>11220</td>\n      <td>Left Party</td>\n      <td>Sweden</td>\n      <td>09/1994</td>\n      <td>20</td>\n      <td>6.174</td>\n      <td>349.0</td>\n      <td>1</td>\n      <td>10</td>\n      <td>9.659</td>\n      <td>5.682</td>\n      <td>0.0</td>\n      <td>-27.273</td>\n      <td>26.705</td>\n      <td>2020b</td>\n      <td>4RH3OM</td>\n      <td>1994</td>\n      <td>09</td>\n    </tr>\n    <tr>\n      <th>93</th>\n      <td>11220</td>\n      <td>Left Party</td>\n      <td>Sweden</td>\n      <td>09/1998</td>\n      <td>20</td>\n      <td>11.990</td>\n      <td>349.0</td>\n      <td>1</td>\n      <td>10</td>\n      <td>9.668</td>\n      <td>12.387</td>\n      <td>0.0</td>\n      <td>-35.952</td>\n      <td>26.586</td>\n      <td>2020b</td>\n      <td>AV7RGX</td>\n      <td>1998</td>\n      <td>09</td>\n    </tr>\n    <tr>\n      <th>100</th>\n      <td>11220</td>\n      <td>Left Party</td>\n      <td>Sweden</td>\n      <td>09/2002</td>\n      <td>20</td>\n      <td>8.388</td>\n      <td>349.0</td>\n      <td>1</td>\n      <td>20</td>\n      <td>7.617</td>\n      <td>8.354</td>\n      <td>0.0</td>\n      <td>-33.661</td>\n      <td>23.587</td>\n      <td>2020b</td>\n      <td>QLAVSZ</td>\n      <td>2002</td>\n      <td>09</td>\n    </tr>\n    <tr>\n      <th>107</th>\n      <td>11220</td>\n      <td>Left Party</td>\n      <td>Sweden</td>\n      <td>09/2006</td>\n      <td>20</td>\n      <td>5.850</td>\n      <td>349.0</td>\n      <td>1</td>\n      <td>40</td>\n      <td>0.000</td>\n      <td>11.568</td>\n      <td>0.0</td>\n      <td>-35.990</td>\n      <td>24.679</td>\n      <td>2020b</td>\n      <td>PNMPGP</td>\n      <td>2006</td>\n      <td>09</td>\n    </tr>\n    <tr>\n      <th>114</th>\n      <td>11220</td>\n      <td>Left Party</td>\n      <td>Sweden</td>\n      <td>09/2010</td>\n      <td>20</td>\n      <td>5.600</td>\n      <td>349.0</td>\n      <td>1</td>\n      <td>51</td>\n      <td>0.000</td>\n      <td>16.142</td>\n      <td>0.0</td>\n      <td>-12.205</td>\n      <td>32.677</td>\n      <td>2020b</td>\n      <td>A6M62C</td>\n      <td>2010</td>\n      <td>09</td>\n    </tr>\n    <tr>\n      <th>122</th>\n      <td>11220</td>\n      <td>Left Party</td>\n      <td>Sweden</td>\n      <td>09/2014</td>\n      <td>20</td>\n      <td>5.718</td>\n      <td>349.0</td>\n      <td>1</td>\n      <td>121</td>\n      <td>0.278</td>\n      <td>19.722</td>\n      <td>0.0</td>\n      <td>-33.889</td>\n      <td>35.556</td>\n      <td>2020b</td>\n      <td>KUI4MG</td>\n      <td>2014</td>\n      <td>09</td>\n    </tr>\n    <tr>\n      <th>130</th>\n      <td>11220</td>\n      <td>Left Party</td>\n      <td>Sweden</td>\n      <td>09/2018</td>\n      <td>20</td>\n      <td>8.005</td>\n      <td>349.0</td>\n      <td>1</td>\n      <td>140</td>\n      <td>0.457</td>\n      <td>17.530</td>\n      <td>0.0</td>\n      <td>-40.701</td>\n      <td>37.652</td>\n      <td>2020b</td>\n      <td>IJRAPK</td>\n      <td>2018</td>\n      <td>09</td>\n    </tr>\n  </tbody>\n</table>\n</div>"
     },
     "metadata": {},
     "execution_count": 18
    }
   ],
   "source": [
    "welfareDF2.sort_values('party')\n",
    "welfareDF2\n",
    "\n",
    "skpSweden = 11220\n",
    "\n",
    "\n",
    "skpSwedenDF = welfareDF2[welfareDF2.party == skpSweden]\n",
    "skpSwedenDF"
   ]
  },
  {
   "cell_type": "code",
   "execution_count": null,
   "metadata": {},
   "outputs": [],
   "source": [
    "welfareDFfinal = welfareDF2[[\n",
    "    'year',\n",
    "    'party',\n",
    "    'partyname',\n",
    "    'countryname',\n",
    "    'date',\n",
    "    'parfam',\n",
    "    'pervote',\n",
    "    'totseats',\n",
    "    'progtype',\n",
    "    'datasetorigin',\n",
    "    'peruncod',\n",
    "    'per504',\n",
    "    'per505',\n",
    "    'rile',\n",
    "    'welfare',\n",
    "    'datasetversion',\n",
    "    'id_perm'\n",
    "    ]]"
   ]
  }
 ]
}