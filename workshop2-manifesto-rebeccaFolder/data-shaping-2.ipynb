{
 "metadata": {
  "language_info": {
   "codemirror_mode": {
    "name": "ipython",
    "version": 3
   },
   "file_extension": ".py",
   "mimetype": "text/x-python",
   "name": "python",
   "nbconvert_exporter": "python",
   "pygments_lexer": "ipython3",
   "version": "3.8.3"
  },
  "orig_nbformat": 2,
  "kernelspec": {
   "name": "python383jvsc74a57bd0dca0ade3e726a953b501b15e8e990130d2b7799f14cfd9f4271676035ebe5511",
   "display_name": "Python 3.8.3 64-bit ('base': conda)"
  }
 },
 "nbformat": 4,
 "nbformat_minor": 2,
 "cells": [
  {
   "cell_type": "code",
   "execution_count": 1,
   "metadata": {},
   "outputs": [
    {
     "output_type": "stream",
     "name": "stdout",
     "text": [
      "1977 1977\n1978 1977\n1979 1979\n1980 1979\n1981 1979\n1982 1982\n1983 1982\n1984 1982\n1985 1982\n1986 1986\n1987 1986\n1988 1986\n1989 1989\n1990 1989\n1991 1989\n1992 1989\n1993 1993\n1994 1993\n1995 1993\n1996 1996\n1997 1996\n1998 1996\n1999 1996\n2000 2000\n2001 2000\n2002 2000\n2003 2000\n2004 2004\n2005 2004\n2006 2004\n2007 2004\n2008 2008\n2009 2008\n2010 2008\n2011 2011\n2012 2011\n2013 2011\n2014 2011\n2015 2015\n2016 2016\n2017 2016\n2018 2016\n2019 2019\n2020 2019\n"
     ]
    }
   ],
   "source": [
    "import pandas as pd\n",
    "dfTest = pd.read_csv(\"cleaned-data-2.csv\")\n",
    "dfTest['year'] = pd.to_datetime(dfTest['year'], format='%Y-%m-%d')\n",
    "dfTest['year'] = dfTest['year'].dt.year\n",
    "\n",
    "swe = dfTest.loc[(dfTest['countryname']=='Spain')]\n",
    "swe = swe.set_index(['year'], drop=False)\n",
    "\n",
    "\n",
    "election_years = swe.index.unique().tolist()\n",
    "\n",
    "first_election_year = min(election_years)\n",
    "last_election_year = 2020\n",
    "\n",
    "output_data = pd.DataFrame()\n",
    "\n",
    "for year in range(first_election_year, last_election_year+1):\n",
    "    finished_elections = filter(lambda y: y <= year, election_years)\n",
    "    latest_election_year = max(finished_elections)\n",
    "    print(year, latest_election_year)\n",
    "    last_elec_data = swe[swe['year'] == latest_election_year] # get data for latest election \n",
    "    fill_data = last_elec_data.assign(year=year) # overwrite the election year with current year\n",
    "    output_data = pd.concat([output_data, fill_data]) # add the fill data\n",
    "\n",
    "output_data.to_csv('country-data-2/spain.csv')"
   ]
  },
  {
   "cell_type": "code",
   "execution_count": null,
   "metadata": {},
   "outputs": [],
   "source": []
  }
 ]
}