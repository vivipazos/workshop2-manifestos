{
 "metadata": {
  "language_info": {
   "codemirror_mode": {
    "name": "ipython",
    "version": 3
   },
   "file_extension": ".py",
   "mimetype": "text/x-python",
   "name": "python",
   "nbconvert_exporter": "python",
   "pygments_lexer": "ipython3",
   "version": "3.8.3"
  },
  "orig_nbformat": 2,
  "kernelspec": {
   "name": "python383jvsc74a57bd0dca0ade3e726a953b501b15e8e990130d2b7799f14cfd9f4271676035ebe5511",
   "display_name": "Python 3.8.3 64-bit ('base': conda)"
  }
 },
 "nbformat": 4,
 "nbformat_minor": 2,
 "cells": [
  {
   "cell_type": "code",
   "execution_count": 2,
   "metadata": {},
   "outputs": [
    {
     "output_type": "execute_result",
     "data": {
      "text/plain": [
       "         year  parfam countryname  environ  culture  equality  pervote   rile  \\\n",
       "0  1944-01-01      20      Sweden      0.0      0.0       0.0     10.3   9.60   \n",
       "1  1944-01-01      30      Sweden      0.0      0.0       5.6     46.5 -37.80   \n",
       "2  1944-01-01      40      Sweden      0.0      0.0       1.6     12.9   9.50   \n",
       "3  1944-01-01      60      Sweden      0.0      0.0       5.3     15.8  28.00   \n",
       "4  1944-01-01      80      Sweden      0.0      0.0       0.0     13.6  23.81   \n",
       "\n",
       "     electionDate                       partyname  \n",
       "0  September 1944       Communist Party of Sweden  \n",
       "1  September 1944  Social Democratic Labour Party  \n",
       "2  September 1944                  People’s Party  \n",
       "3  September 1944                     Right Party  \n",
       "4  September 1944                  Agrarian Party  "
      ],
      "text/html": "<div>\n<style scoped>\n    .dataframe tbody tr th:only-of-type {\n        vertical-align: middle;\n    }\n\n    .dataframe tbody tr th {\n        vertical-align: top;\n    }\n\n    .dataframe thead th {\n        text-align: right;\n    }\n</style>\n<table border=\"1\" class=\"dataframe\">\n  <thead>\n    <tr style=\"text-align: right;\">\n      <th></th>\n      <th>year</th>\n      <th>parfam</th>\n      <th>countryname</th>\n      <th>environ</th>\n      <th>culture</th>\n      <th>equality</th>\n      <th>pervote</th>\n      <th>rile</th>\n      <th>electionDate</th>\n      <th>partyname</th>\n    </tr>\n  </thead>\n  <tbody>\n    <tr>\n      <th>0</th>\n      <td>1944-01-01</td>\n      <td>20</td>\n      <td>Sweden</td>\n      <td>0.0</td>\n      <td>0.0</td>\n      <td>0.0</td>\n      <td>10.3</td>\n      <td>9.60</td>\n      <td>September 1944</td>\n      <td>Communist Party of Sweden</td>\n    </tr>\n    <tr>\n      <th>1</th>\n      <td>1944-01-01</td>\n      <td>30</td>\n      <td>Sweden</td>\n      <td>0.0</td>\n      <td>0.0</td>\n      <td>5.6</td>\n      <td>46.5</td>\n      <td>-37.80</td>\n      <td>September 1944</td>\n      <td>Social Democratic Labour Party</td>\n    </tr>\n    <tr>\n      <th>2</th>\n      <td>1944-01-01</td>\n      <td>40</td>\n      <td>Sweden</td>\n      <td>0.0</td>\n      <td>0.0</td>\n      <td>1.6</td>\n      <td>12.9</td>\n      <td>9.50</td>\n      <td>September 1944</td>\n      <td>People’s Party</td>\n    </tr>\n    <tr>\n      <th>3</th>\n      <td>1944-01-01</td>\n      <td>60</td>\n      <td>Sweden</td>\n      <td>0.0</td>\n      <td>0.0</td>\n      <td>5.3</td>\n      <td>15.8</td>\n      <td>28.00</td>\n      <td>September 1944</td>\n      <td>Right Party</td>\n    </tr>\n    <tr>\n      <th>4</th>\n      <td>1944-01-01</td>\n      <td>80</td>\n      <td>Sweden</td>\n      <td>0.0</td>\n      <td>0.0</td>\n      <td>0.0</td>\n      <td>13.6</td>\n      <td>23.81</td>\n      <td>September 1944</td>\n      <td>Agrarian Party</td>\n    </tr>\n  </tbody>\n</table>\n</div>"
     },
     "metadata": {},
     "execution_count": 2
    }
   ],
   "source": [
    "import pandas as pd\n",
    "pd.set_option(\"display.precision\", 2) #always just show 2 decimal points\n",
    "\n",
    "df = pd.read_csv(\"finalData/cleaned-data-2.csv\")\n",
    "\n",
    "df.head()\n"
   ]
  },
  {
   "cell_type": "code",
   "execution_count": 3,
   "metadata": {},
   "outputs": [
    {
     "output_type": "execute_result",
     "data": {
      "text/plain": [
       "         year  parfam countryname  environ  culture  equality  pervote   rile  \\\n",
       "0  1944-01-01      20      Sweden      0.0      0.0       0.0     10.3   9.60   \n",
       "1  1944-01-01      30      Sweden      0.0      0.0       5.6     46.5 -37.80   \n",
       "2  1944-01-01      40      Sweden      0.0      0.0       1.6     12.9   9.50   \n",
       "3  1944-01-01      60      Sweden      0.0      0.0       5.3     15.8  28.00   \n",
       "4  1944-01-01      80      Sweden      0.0      0.0       0.0     13.6  23.81   \n",
       "\n",
       "     electionDate                       partyname parfamName  \n",
       "0  September 1944       Communist Party of Sweden        LEF  \n",
       "1  September 1944  Social Democratic Labour Party        SOC  \n",
       "2  September 1944                  People’s Party        LIB  \n",
       "3  September 1944                     Right Party        CON  \n",
       "4  September 1944                  Agrarian Party        AGR  "
      ],
      "text/html": "<div>\n<style scoped>\n    .dataframe tbody tr th:only-of-type {\n        vertical-align: middle;\n    }\n\n    .dataframe tbody tr th {\n        vertical-align: top;\n    }\n\n    .dataframe thead th {\n        text-align: right;\n    }\n</style>\n<table border=\"1\" class=\"dataframe\">\n  <thead>\n    <tr style=\"text-align: right;\">\n      <th></th>\n      <th>year</th>\n      <th>parfam</th>\n      <th>countryname</th>\n      <th>environ</th>\n      <th>culture</th>\n      <th>equality</th>\n      <th>pervote</th>\n      <th>rile</th>\n      <th>electionDate</th>\n      <th>partyname</th>\n      <th>parfamName</th>\n    </tr>\n  </thead>\n  <tbody>\n    <tr>\n      <th>0</th>\n      <td>1944-01-01</td>\n      <td>20</td>\n      <td>Sweden</td>\n      <td>0.0</td>\n      <td>0.0</td>\n      <td>0.0</td>\n      <td>10.3</td>\n      <td>9.60</td>\n      <td>September 1944</td>\n      <td>Communist Party of Sweden</td>\n      <td>LEF</td>\n    </tr>\n    <tr>\n      <th>1</th>\n      <td>1944-01-01</td>\n      <td>30</td>\n      <td>Sweden</td>\n      <td>0.0</td>\n      <td>0.0</td>\n      <td>5.6</td>\n      <td>46.5</td>\n      <td>-37.80</td>\n      <td>September 1944</td>\n      <td>Social Democratic Labour Party</td>\n      <td>SOC</td>\n    </tr>\n    <tr>\n      <th>2</th>\n      <td>1944-01-01</td>\n      <td>40</td>\n      <td>Sweden</td>\n      <td>0.0</td>\n      <td>0.0</td>\n      <td>1.6</td>\n      <td>12.9</td>\n      <td>9.50</td>\n      <td>September 1944</td>\n      <td>People’s Party</td>\n      <td>LIB</td>\n    </tr>\n    <tr>\n      <th>3</th>\n      <td>1944-01-01</td>\n      <td>60</td>\n      <td>Sweden</td>\n      <td>0.0</td>\n      <td>0.0</td>\n      <td>5.3</td>\n      <td>15.8</td>\n      <td>28.00</td>\n      <td>September 1944</td>\n      <td>Right Party</td>\n      <td>CON</td>\n    </tr>\n    <tr>\n      <th>4</th>\n      <td>1944-01-01</td>\n      <td>80</td>\n      <td>Sweden</td>\n      <td>0.0</td>\n      <td>0.0</td>\n      <td>0.0</td>\n      <td>13.6</td>\n      <td>23.81</td>\n      <td>September 1944</td>\n      <td>Agrarian Party</td>\n      <td>AGR</td>\n    </tr>\n  </tbody>\n</table>\n</div>"
     },
     "metadata": {},
     "execution_count": 3
    }
   ],
   "source": [
    "#Add column with Parfam abbreviations\n",
    "import numpy as np \n",
    "\n",
    "#Change parfam codes to abbreviations for better identification\n",
    "conditions = [\n",
    "    (df['parfam'] == 10),\n",
    "    (df['parfam'] == 20),\n",
    "    (df['parfam'] == 30),\n",
    "    (df['parfam'] == 40),\n",
    "    (df['parfam'] == 50),\n",
    "    (df['parfam'] == 60),\n",
    "    (df['parfam'] == 70),\n",
    "    (df['parfam'] == 80),\n",
    "    (df['parfam'] == 90),\n",
    "    (df['parfam'] == 95),\n",
    "    (df['parfam'] == 98),\n",
    "]\n",
    "\n",
    "values = ['ECO','LEF','SOC','LIB','CHR', 'CON', 'NAT', 'AGR', 'ETH', 'SIP', 'DIV']\n",
    "\n",
    "df['parfamName'] = np.select(conditions,values)\n",
    "\n",
    "\n",
    "df.head()"
   ]
  },
  {
   "cell_type": "code",
   "execution_count": 4,
   "metadata": {},
   "outputs": [
    {
     "output_type": "execute_result",
     "data": {
      "text/plain": [
       "Empty DataFrame\n",
       "Columns: [year, parfam, countryname, environ, culture, equality, pervote, rile, electionDate, partyname, parfamName]\n",
       "Index: []"
      ],
      "text/html": "<div>\n<style scoped>\n    .dataframe tbody tr th:only-of-type {\n        vertical-align: middle;\n    }\n\n    .dataframe tbody tr th {\n        vertical-align: top;\n    }\n\n    .dataframe thead th {\n        text-align: right;\n    }\n</style>\n<table border=\"1\" class=\"dataframe\">\n  <thead>\n    <tr style=\"text-align: right;\">\n      <th></th>\n      <th>year</th>\n      <th>parfam</th>\n      <th>countryname</th>\n      <th>environ</th>\n      <th>culture</th>\n      <th>equality</th>\n      <th>pervote</th>\n      <th>rile</th>\n      <th>electionDate</th>\n      <th>partyname</th>\n      <th>parfamName</th>\n    </tr>\n  </thead>\n  <tbody>\n  </tbody>\n</table>\n</div>"
     },
     "metadata": {},
     "execution_count": 4
    }
   ],
   "source": [
    "#Checking all the missing values are gone\n",
    "dfMissing = df[df['parfam']==999]\n",
    "dfMissing"
   ]
  },
  {
   "source": [
    "#Add column with static rile instead of dynamic just in case\n",
    "\n",
    "conditionsStatic = [\n",
    "    (df['parfam'] == 10),\n",
    "    (df['parfam'] == 20),\n",
    "    (df['parfam'] == 30),\n",
    "    (df['parfam'] == 40),\n",
    "    (df['parfam'] == 50),\n",
    "    (df['parfam'] == 60),\n",
    "    (df['parfam'] == 70),\n",
    "    (df['parfam'] == 80),\n",
    "    (df['parfam'] == 90),\n",
    "    (df['parfam'] == 95),\n",
    "    (df['parfam'] == 98),\n",
    "]\n",
    "\n",
    "valuesStatic = [-13.65,-23.66,-14,4.61,6.13,11.64,10.25,1.01,-9.04,3.36,-10.52]\n",
    "\n",
    "df['staticRile'] = np.select(conditionsStatic,valuesStatic)\n",
    "\n",
    "df.head()"
   ],
   "cell_type": "code",
   "metadata": {},
   "execution_count": 5,
   "outputs": [
    {
     "output_type": "execute_result",
     "data": {
      "text/plain": [
       "         year  parfam countryname  environ  culture  equality  pervote   rile  \\\n",
       "0  1944-01-01      20      Sweden      0.0      0.0       0.0     10.3   9.60   \n",
       "1  1944-01-01      30      Sweden      0.0      0.0       5.6     46.5 -37.80   \n",
       "2  1944-01-01      40      Sweden      0.0      0.0       1.6     12.9   9.50   \n",
       "3  1944-01-01      60      Sweden      0.0      0.0       5.3     15.8  28.00   \n",
       "4  1944-01-01      80      Sweden      0.0      0.0       0.0     13.6  23.81   \n",
       "\n",
       "     electionDate                       partyname parfamName  staticRile  \n",
       "0  September 1944       Communist Party of Sweden        LEF      -23.66  \n",
       "1  September 1944  Social Democratic Labour Party        SOC      -14.00  \n",
       "2  September 1944                  People’s Party        LIB        4.61  \n",
       "3  September 1944                     Right Party        CON       11.64  \n",
       "4  September 1944                  Agrarian Party        AGR        1.01  "
      ],
      "text/html": "<div>\n<style scoped>\n    .dataframe tbody tr th:only-of-type {\n        vertical-align: middle;\n    }\n\n    .dataframe tbody tr th {\n        vertical-align: top;\n    }\n\n    .dataframe thead th {\n        text-align: right;\n    }\n</style>\n<table border=\"1\" class=\"dataframe\">\n  <thead>\n    <tr style=\"text-align: right;\">\n      <th></th>\n      <th>year</th>\n      <th>parfam</th>\n      <th>countryname</th>\n      <th>environ</th>\n      <th>culture</th>\n      <th>equality</th>\n      <th>pervote</th>\n      <th>rile</th>\n      <th>electionDate</th>\n      <th>partyname</th>\n      <th>parfamName</th>\n      <th>staticRile</th>\n    </tr>\n  </thead>\n  <tbody>\n    <tr>\n      <th>0</th>\n      <td>1944-01-01</td>\n      <td>20</td>\n      <td>Sweden</td>\n      <td>0.0</td>\n      <td>0.0</td>\n      <td>0.0</td>\n      <td>10.3</td>\n      <td>9.60</td>\n      <td>September 1944</td>\n      <td>Communist Party of Sweden</td>\n      <td>LEF</td>\n      <td>-23.66</td>\n    </tr>\n    <tr>\n      <th>1</th>\n      <td>1944-01-01</td>\n      <td>30</td>\n      <td>Sweden</td>\n      <td>0.0</td>\n      <td>0.0</td>\n      <td>5.6</td>\n      <td>46.5</td>\n      <td>-37.80</td>\n      <td>September 1944</td>\n      <td>Social Democratic Labour Party</td>\n      <td>SOC</td>\n      <td>-14.00</td>\n    </tr>\n    <tr>\n      <th>2</th>\n      <td>1944-01-01</td>\n      <td>40</td>\n      <td>Sweden</td>\n      <td>0.0</td>\n      <td>0.0</td>\n      <td>1.6</td>\n      <td>12.9</td>\n      <td>9.50</td>\n      <td>September 1944</td>\n      <td>People’s Party</td>\n      <td>LIB</td>\n      <td>4.61</td>\n    </tr>\n    <tr>\n      <th>3</th>\n      <td>1944-01-01</td>\n      <td>60</td>\n      <td>Sweden</td>\n      <td>0.0</td>\n      <td>0.0</td>\n      <td>5.3</td>\n      <td>15.8</td>\n      <td>28.00</td>\n      <td>September 1944</td>\n      <td>Right Party</td>\n      <td>CON</td>\n      <td>11.64</td>\n    </tr>\n    <tr>\n      <th>4</th>\n      <td>1944-01-01</td>\n      <td>80</td>\n      <td>Sweden</td>\n      <td>0.0</td>\n      <td>0.0</td>\n      <td>0.0</td>\n      <td>13.6</td>\n      <td>23.81</td>\n      <td>September 1944</td>\n      <td>Agrarian Party</td>\n      <td>AGR</td>\n      <td>1.01</td>\n    </tr>\n  </tbody>\n</table>\n</div>"
     },
     "metadata": {},
     "execution_count": 5
    }
   ]
  },
  {
   "cell_type": "code",
   "execution_count": 6,
   "metadata": {},
   "outputs": [
    {
     "output_type": "execute_result",
     "data": {
      "text/plain": [
       "        year  parfam countryname  environ  culture  equality  pervote   rile  \\\n",
       "0 1944-01-01      20      Sweden      0.0      0.0       0.0     10.3   9.60   \n",
       "1 1944-01-01      30      Sweden      0.0      0.0       5.6     46.5 -37.80   \n",
       "2 1944-01-01      40      Sweden      0.0      0.0       1.6     12.9   9.50   \n",
       "3 1944-01-01      60      Sweden      0.0      0.0       5.3     15.8  28.00   \n",
       "4 1944-01-01      80      Sweden      0.0      0.0       0.0     13.6  23.81   \n",
       "\n",
       "     electionDate                       partyname parfamName  staticRile  \\\n",
       "0  September 1944       Communist Party of Sweden        LEF      -23.66   \n",
       "1  September 1944  Social Democratic Labour Party        SOC      -14.00   \n",
       "2  September 1944                  People’s Party        LIB        4.61   \n",
       "3  September 1944                     Right Party        CON       11.64   \n",
       "4  September 1944                  Agrarian Party        AGR        1.01   \n",
       "\n",
       "   yearIndex  \n",
       "0       1944  \n",
       "1       1944  \n",
       "2       1944  \n",
       "3       1944  \n",
       "4       1944  "
      ],
      "text/html": "<div>\n<style scoped>\n    .dataframe tbody tr th:only-of-type {\n        vertical-align: middle;\n    }\n\n    .dataframe tbody tr th {\n        vertical-align: top;\n    }\n\n    .dataframe thead th {\n        text-align: right;\n    }\n</style>\n<table border=\"1\" class=\"dataframe\">\n  <thead>\n    <tr style=\"text-align: right;\">\n      <th></th>\n      <th>year</th>\n      <th>parfam</th>\n      <th>countryname</th>\n      <th>environ</th>\n      <th>culture</th>\n      <th>equality</th>\n      <th>pervote</th>\n      <th>rile</th>\n      <th>electionDate</th>\n      <th>partyname</th>\n      <th>parfamName</th>\n      <th>staticRile</th>\n      <th>yearIndex</th>\n    </tr>\n  </thead>\n  <tbody>\n    <tr>\n      <th>0</th>\n      <td>1944-01-01</td>\n      <td>20</td>\n      <td>Sweden</td>\n      <td>0.0</td>\n      <td>0.0</td>\n      <td>0.0</td>\n      <td>10.3</td>\n      <td>9.60</td>\n      <td>September 1944</td>\n      <td>Communist Party of Sweden</td>\n      <td>LEF</td>\n      <td>-23.66</td>\n      <td>1944</td>\n    </tr>\n    <tr>\n      <th>1</th>\n      <td>1944-01-01</td>\n      <td>30</td>\n      <td>Sweden</td>\n      <td>0.0</td>\n      <td>0.0</td>\n      <td>5.6</td>\n      <td>46.5</td>\n      <td>-37.80</td>\n      <td>September 1944</td>\n      <td>Social Democratic Labour Party</td>\n      <td>SOC</td>\n      <td>-14.00</td>\n      <td>1944</td>\n    </tr>\n    <tr>\n      <th>2</th>\n      <td>1944-01-01</td>\n      <td>40</td>\n      <td>Sweden</td>\n      <td>0.0</td>\n      <td>0.0</td>\n      <td>1.6</td>\n      <td>12.9</td>\n      <td>9.50</td>\n      <td>September 1944</td>\n      <td>People’s Party</td>\n      <td>LIB</td>\n      <td>4.61</td>\n      <td>1944</td>\n    </tr>\n    <tr>\n      <th>3</th>\n      <td>1944-01-01</td>\n      <td>60</td>\n      <td>Sweden</td>\n      <td>0.0</td>\n      <td>0.0</td>\n      <td>5.3</td>\n      <td>15.8</td>\n      <td>28.00</td>\n      <td>September 1944</td>\n      <td>Right Party</td>\n      <td>CON</td>\n      <td>11.64</td>\n      <td>1944</td>\n    </tr>\n    <tr>\n      <th>4</th>\n      <td>1944-01-01</td>\n      <td>80</td>\n      <td>Sweden</td>\n      <td>0.0</td>\n      <td>0.0</td>\n      <td>0.0</td>\n      <td>13.6</td>\n      <td>23.81</td>\n      <td>September 1944</td>\n      <td>Agrarian Party</td>\n      <td>AGR</td>\n      <td>1.01</td>\n      <td>1944</td>\n    </tr>\n  </tbody>\n</table>\n</div>"
     },
     "metadata": {},
     "execution_count": 6
    }
   ],
   "source": [
    "#Extract yearObject\n",
    "\n",
    "df['year'] = pd.to_datetime(df['year'], format='%Y-%m-%d')\n",
    "df['yearIndex'] = df['year'].dt.year\n",
    "\n",
    "df.head()"
   ]
  },
  {
   "cell_type": "code",
   "execution_count": 7,
   "metadata": {},
   "outputs": [],
   "source": [
    "#Filter out to columns I need in the right order\n",
    "\n",
    "df_cleaned = df[['yearIndex','parfamName','parfam','countryname','environ','culture','equality','pervote','rile','staticRile','electionDate','partyname']]\n",
    "\n",
    "df_cleaned = df_cleaned.set_index('partyname')"
   ]
  },
  {
   "cell_type": "code",
   "execution_count": 8,
   "metadata": {},
   "outputs": [
    {
     "output_type": "execute_result",
     "data": {
      "text/plain": [
       "                                                     culture  environ  \\\n",
       "yearIndex partyname                      parfamName                     \n",
       "1944      Agrarian Party                 AGR            0.00     0.00   \n",
       "          Communist Party of Sweden      LEF            0.00     0.00   \n",
       "          People’s Party                 LIB            0.00     0.00   \n",
       "          Right Party                    CON            0.00     0.00   \n",
       "          Social Democratic Labour Party SOC            0.00     0.00   \n",
       "...                                                      ...      ...   \n",
       "2018      Left Party                     LEF            3.20     5.64   \n",
       "          Liberals                       LIB            2.94     7.68   \n",
       "          Moderate Coalition Party       CON            2.69     8.06   \n",
       "          Social Democratic Labour Party SOC            3.55     6.13   \n",
       "          Sweden Democrats               NAT            3.96     4.43   \n",
       "\n",
       "                                                     equality  parfamCount  \\\n",
       "yearIndex partyname                      parfamName                          \n",
       "1944      Agrarian Party                 AGR             0.00            1   \n",
       "          Communist Party of Sweden      LEF             0.00            1   \n",
       "          People’s Party                 LIB             1.60            1   \n",
       "          Right Party                    CON             5.30            1   \n",
       "          Social Democratic Labour Party SOC             5.60            1   \n",
       "...                                                       ...          ...   \n",
       "2018      Left Party                     LEF            20.12            1   \n",
       "          Liberals                       LIB             7.35            1   \n",
       "          Moderate Coalition Party       CON             4.78            1   \n",
       "          Social Democratic Labour Party SOC             6.13            1   \n",
       "          Sweden Democrats               NAT             4.20            1   \n",
       "\n",
       "                                                     pervote   rile  \\\n",
       "yearIndex partyname                      parfamName                   \n",
       "1944      Agrarian Party                 AGR           13.60  23.81   \n",
       "          Communist Party of Sweden      LEF           10.30   9.60   \n",
       "          People’s Party                 LIB           12.90   9.50   \n",
       "          Right Party                    CON           15.80  28.00   \n",
       "          Social Democratic Labour Party SOC           46.50 -37.80   \n",
       "...                                                      ...    ...   \n",
       "2018      Left Party                     LEF            8.01 -40.70   \n",
       "          Liberals                       LIB            5.49  -1.14   \n",
       "          Moderate Coalition Party       CON           19.84   7.56   \n",
       "          Social Democratic Labour Party SOC           28.26 -20.00   \n",
       "          Sweden Democrats               NAT           17.53  -9.09   \n",
       "\n",
       "                                                     staticRile  avgVote  \\\n",
       "yearIndex partyname                      parfamName                        \n",
       "1944      Agrarian Party                 AGR               1.01    13.60   \n",
       "          Communist Party of Sweden      LEF             -23.66    10.30   \n",
       "          People’s Party                 LIB               4.61    12.90   \n",
       "          Right Party                    CON              11.64    15.80   \n",
       "          Social Democratic Labour Party SOC             -14.00    46.50   \n",
       "...                                                         ...      ...   \n",
       "2018      Left Party                     LEF             -23.66     8.01   \n",
       "          Liberals                       LIB               4.61     5.49   \n",
       "          Moderate Coalition Party       CON              11.64    19.84   \n",
       "          Social Democratic Labour Party SOC             -14.00    28.26   \n",
       "          Sweden Democrats               NAT              10.25    17.53   \n",
       "\n",
       "                                                    countryname  \n",
       "yearIndex partyname                      parfamName              \n",
       "1944      Agrarian Party                 AGR             Sweden  \n",
       "          Communist Party of Sweden      LEF             Sweden  \n",
       "          People’s Party                 LIB             Sweden  \n",
       "          Right Party                    CON             Sweden  \n",
       "          Social Democratic Labour Party SOC             Sweden  \n",
       "...                                                         ...  \n",
       "2018      Left Party                     LEF             Sweden  \n",
       "          Liberals                       LIB             Sweden  \n",
       "          Moderate Coalition Party       CON             Sweden  \n",
       "          Social Democratic Labour Party SOC             Sweden  \n",
       "          Sweden Democrats               NAT             Sweden  \n",
       "\n",
       "[137 rows x 9 columns]"
      ],
      "text/html": "<div>\n<style scoped>\n    .dataframe tbody tr th:only-of-type {\n        vertical-align: middle;\n    }\n\n    .dataframe tbody tr th {\n        vertical-align: top;\n    }\n\n    .dataframe thead th {\n        text-align: right;\n    }\n</style>\n<table border=\"1\" class=\"dataframe\">\n  <thead>\n    <tr style=\"text-align: right;\">\n      <th></th>\n      <th></th>\n      <th></th>\n      <th>culture</th>\n      <th>environ</th>\n      <th>equality</th>\n      <th>parfamCount</th>\n      <th>pervote</th>\n      <th>rile</th>\n      <th>staticRile</th>\n      <th>avgVote</th>\n      <th>countryname</th>\n    </tr>\n    <tr>\n      <th>yearIndex</th>\n      <th>partyname</th>\n      <th>parfamName</th>\n      <th></th>\n      <th></th>\n      <th></th>\n      <th></th>\n      <th></th>\n      <th></th>\n      <th></th>\n      <th></th>\n      <th></th>\n    </tr>\n  </thead>\n  <tbody>\n    <tr>\n      <th rowspan=\"5\" valign=\"top\">1944</th>\n      <th>Agrarian Party</th>\n      <th>AGR</th>\n      <td>0.00</td>\n      <td>0.00</td>\n      <td>0.00</td>\n      <td>1</td>\n      <td>13.60</td>\n      <td>23.81</td>\n      <td>1.01</td>\n      <td>13.60</td>\n      <td>Sweden</td>\n    </tr>\n    <tr>\n      <th>Communist Party of Sweden</th>\n      <th>LEF</th>\n      <td>0.00</td>\n      <td>0.00</td>\n      <td>0.00</td>\n      <td>1</td>\n      <td>10.30</td>\n      <td>9.60</td>\n      <td>-23.66</td>\n      <td>10.30</td>\n      <td>Sweden</td>\n    </tr>\n    <tr>\n      <th>People’s Party</th>\n      <th>LIB</th>\n      <td>0.00</td>\n      <td>0.00</td>\n      <td>1.60</td>\n      <td>1</td>\n      <td>12.90</td>\n      <td>9.50</td>\n      <td>4.61</td>\n      <td>12.90</td>\n      <td>Sweden</td>\n    </tr>\n    <tr>\n      <th>Right Party</th>\n      <th>CON</th>\n      <td>0.00</td>\n      <td>0.00</td>\n      <td>5.30</td>\n      <td>1</td>\n      <td>15.80</td>\n      <td>28.00</td>\n      <td>11.64</td>\n      <td>15.80</td>\n      <td>Sweden</td>\n    </tr>\n    <tr>\n      <th>Social Democratic Labour Party</th>\n      <th>SOC</th>\n      <td>0.00</td>\n      <td>0.00</td>\n      <td>5.60</td>\n      <td>1</td>\n      <td>46.50</td>\n      <td>-37.80</td>\n      <td>-14.00</td>\n      <td>46.50</td>\n      <td>Sweden</td>\n    </tr>\n    <tr>\n      <th>...</th>\n      <th>...</th>\n      <th>...</th>\n      <td>...</td>\n      <td>...</td>\n      <td>...</td>\n      <td>...</td>\n      <td>...</td>\n      <td>...</td>\n      <td>...</td>\n      <td>...</td>\n      <td>...</td>\n    </tr>\n    <tr>\n      <th rowspan=\"5\" valign=\"top\">2018</th>\n      <th>Left Party</th>\n      <th>LEF</th>\n      <td>3.20</td>\n      <td>5.64</td>\n      <td>20.12</td>\n      <td>1</td>\n      <td>8.01</td>\n      <td>-40.70</td>\n      <td>-23.66</td>\n      <td>8.01</td>\n      <td>Sweden</td>\n    </tr>\n    <tr>\n      <th>Liberals</th>\n      <th>LIB</th>\n      <td>2.94</td>\n      <td>7.68</td>\n      <td>7.35</td>\n      <td>1</td>\n      <td>5.49</td>\n      <td>-1.14</td>\n      <td>4.61</td>\n      <td>5.49</td>\n      <td>Sweden</td>\n    </tr>\n    <tr>\n      <th>Moderate Coalition Party</th>\n      <th>CON</th>\n      <td>2.69</td>\n      <td>8.06</td>\n      <td>4.78</td>\n      <td>1</td>\n      <td>19.84</td>\n      <td>7.56</td>\n      <td>11.64</td>\n      <td>19.84</td>\n      <td>Sweden</td>\n    </tr>\n    <tr>\n      <th>Social Democratic Labour Party</th>\n      <th>SOC</th>\n      <td>3.55</td>\n      <td>6.13</td>\n      <td>6.13</td>\n      <td>1</td>\n      <td>28.26</td>\n      <td>-20.00</td>\n      <td>-14.00</td>\n      <td>28.26</td>\n      <td>Sweden</td>\n    </tr>\n    <tr>\n      <th>Sweden Democrats</th>\n      <th>NAT</th>\n      <td>3.96</td>\n      <td>4.43</td>\n      <td>4.20</td>\n      <td>1</td>\n      <td>17.53</td>\n      <td>-9.09</td>\n      <td>10.25</td>\n      <td>17.53</td>\n      <td>Sweden</td>\n    </tr>\n  </tbody>\n</table>\n<p>137 rows × 9 columns</p>\n</div>"
     },
     "metadata": {},
     "execution_count": 8
    }
   ],
   "source": [
    "#Option I know, create and repeat, then join laters\n",
    "\n",
    "df_filtered = df_cleaned.loc[(df_cleaned['countryname']=='Sweden')]\n",
    "\n",
    "df_pivot = pd.pivot_table(df_filtered, index={'partyname','yearIndex', 'parfamName'},values=['parfam','environ','culture','equality','pervote','rile','staticRile'], aggfunc={'parfam' : 'count', 'environ' : 'sum','culture' : 'sum','equality' : 'sum', 'pervote' : 'sum', 'rile' : 'mean', 'staticRile':'min'}, dropna=True)\n",
    "df_pivot = df_pivot.rename(columns={'parfam':'parfamCount'})\n",
    "df_pivot['avgVote'] = (df_pivot['pervote'])/(df_pivot['parfamCount'])\n",
    "df_pivot['countryname'] = 'Sweden'\n",
    "\n",
    "df_pivot.to_csv('country-data-unfilled/Sweden.csv')\n",
    "\n",
    "df_pivot"
   ]
  },
  {
   "cell_type": "code",
   "execution_count": 9,
   "metadata": {},
   "outputs": [],
   "source": [
    "#Group programmatically\n",
    "import glob\n",
    "\n",
    "#Read in all country data\n",
    "path = r'/Users/rvpazos/Documents/mvtec/ManifestoProject/workshop2-manifesto-rebeccaFolder/country-data-unfilled' # use your path\n",
    "all_files = glob.glob(path + \"/*.csv\")\n",
    "\n",
    "all_files\n",
    "li = []\n",
    "for filename in all_files:\n",
    "    df = pd.read_csv(filename,header=0)\n",
    "    li.append(df)\n",
    "\n",
    "allData = pd.concat(li, axis=0)\n",
    "\n",
    "allData.to_csv('country-data-unfilled/merged.csv')\n",
    "\n"
   ]
  },
  {
   "cell_type": "code",
   "execution_count": 16,
   "metadata": {},
   "outputs": [
    {
     "output_type": "execute_result",
     "data": {
      "text/plain": [
       "          year  parfam countryname  environ  culture  equality  pervote  \\\n",
       "0   1944-01-01      20      Sweden     0.00     0.00      0.00    10.30   \n",
       "1   1944-01-01      30      Sweden     0.00     0.00      5.60    46.50   \n",
       "2   1944-01-01      40      Sweden     0.00     0.00      1.60    12.90   \n",
       "3   1944-01-01      60      Sweden     0.00     0.00      5.30    15.80   \n",
       "4   1944-01-01      80      Sweden     0.00     0.00      0.00    13.60   \n",
       "..         ...     ...         ...      ...      ...       ...      ...   \n",
       "132 2018-01-01      40      Sweden     7.68     2.94      7.35     5.49   \n",
       "133 2018-01-01      50      Sweden     0.00     0.00      0.00     6.32   \n",
       "134 2018-01-01      60      Sweden     8.06     2.69      4.78    19.84   \n",
       "135 2018-01-01      70      Sweden     4.43     3.96      4.20    17.53   \n",
       "136 2018-01-01      80      Sweden    15.62     0.00      8.03     8.61   \n",
       "\n",
       "      rile    electionDate                       partyname parfamName  \\\n",
       "0     9.60  September 1944       Communist Party of Sweden        LEF   \n",
       "1   -37.80  September 1944  Social Democratic Labour Party        SOC   \n",
       "2     9.50  September 1944                  People’s Party        LIB   \n",
       "3    28.00  September 1944                     Right Party        CON   \n",
       "4    23.81  September 1944                  Agrarian Party        AGR   \n",
       "..     ...             ...                             ...        ...   \n",
       "132  -1.14  September 2018                        Liberals        LIB   \n",
       "133 -12.71  September 2018             Christian Democrats        CHR   \n",
       "134   7.56  September 2018        Moderate Coalition Party        CON   \n",
       "135  -9.09  September 2018                Sweden Democrats        NAT   \n",
       "136   9.98  September 2018                    Centre Party        AGR   \n",
       "\n",
       "     staticRile  yearIndex  \n",
       "0        -23.66       1944  \n",
       "1        -14.00       1944  \n",
       "2          4.61       1944  \n",
       "3         11.64       1944  \n",
       "4          1.01       1944  \n",
       "..          ...        ...  \n",
       "132        4.61       2018  \n",
       "133        6.13       2018  \n",
       "134       11.64       2018  \n",
       "135       10.25       2018  \n",
       "136        1.01       2018  \n",
       "\n",
       "[137 rows x 13 columns]"
      ],
      "text/html": "<div>\n<style scoped>\n    .dataframe tbody tr th:only-of-type {\n        vertical-align: middle;\n    }\n\n    .dataframe tbody tr th {\n        vertical-align: top;\n    }\n\n    .dataframe thead th {\n        text-align: right;\n    }\n</style>\n<table border=\"1\" class=\"dataframe\">\n  <thead>\n    <tr style=\"text-align: right;\">\n      <th></th>\n      <th>year</th>\n      <th>parfam</th>\n      <th>countryname</th>\n      <th>environ</th>\n      <th>culture</th>\n      <th>equality</th>\n      <th>pervote</th>\n      <th>rile</th>\n      <th>electionDate</th>\n      <th>partyname</th>\n      <th>parfamName</th>\n      <th>staticRile</th>\n      <th>yearIndex</th>\n    </tr>\n  </thead>\n  <tbody>\n    <tr>\n      <th>0</th>\n      <td>1944-01-01</td>\n      <td>20</td>\n      <td>Sweden</td>\n      <td>0.00</td>\n      <td>0.00</td>\n      <td>0.00</td>\n      <td>10.30</td>\n      <td>9.60</td>\n      <td>September 1944</td>\n      <td>Communist Party of Sweden</td>\n      <td>LEF</td>\n      <td>-23.66</td>\n      <td>1944</td>\n    </tr>\n    <tr>\n      <th>1</th>\n      <td>1944-01-01</td>\n      <td>30</td>\n      <td>Sweden</td>\n      <td>0.00</td>\n      <td>0.00</td>\n      <td>5.60</td>\n      <td>46.50</td>\n      <td>-37.80</td>\n      <td>September 1944</td>\n      <td>Social Democratic Labour Party</td>\n      <td>SOC</td>\n      <td>-14.00</td>\n      <td>1944</td>\n    </tr>\n    <tr>\n      <th>2</th>\n      <td>1944-01-01</td>\n      <td>40</td>\n      <td>Sweden</td>\n      <td>0.00</td>\n      <td>0.00</td>\n      <td>1.60</td>\n      <td>12.90</td>\n      <td>9.50</td>\n      <td>September 1944</td>\n      <td>People’s Party</td>\n      <td>LIB</td>\n      <td>4.61</td>\n      <td>1944</td>\n    </tr>\n    <tr>\n      <th>3</th>\n      <td>1944-01-01</td>\n      <td>60</td>\n      <td>Sweden</td>\n      <td>0.00</td>\n      <td>0.00</td>\n      <td>5.30</td>\n      <td>15.80</td>\n      <td>28.00</td>\n      <td>September 1944</td>\n      <td>Right Party</td>\n      <td>CON</td>\n      <td>11.64</td>\n      <td>1944</td>\n    </tr>\n    <tr>\n      <th>4</th>\n      <td>1944-01-01</td>\n      <td>80</td>\n      <td>Sweden</td>\n      <td>0.00</td>\n      <td>0.00</td>\n      <td>0.00</td>\n      <td>13.60</td>\n      <td>23.81</td>\n      <td>September 1944</td>\n      <td>Agrarian Party</td>\n      <td>AGR</td>\n      <td>1.01</td>\n      <td>1944</td>\n    </tr>\n    <tr>\n      <th>...</th>\n      <td>...</td>\n      <td>...</td>\n      <td>...</td>\n      <td>...</td>\n      <td>...</td>\n      <td>...</td>\n      <td>...</td>\n      <td>...</td>\n      <td>...</td>\n      <td>...</td>\n      <td>...</td>\n      <td>...</td>\n      <td>...</td>\n    </tr>\n    <tr>\n      <th>132</th>\n      <td>2018-01-01</td>\n      <td>40</td>\n      <td>Sweden</td>\n      <td>7.68</td>\n      <td>2.94</td>\n      <td>7.35</td>\n      <td>5.49</td>\n      <td>-1.14</td>\n      <td>September 2018</td>\n      <td>Liberals</td>\n      <td>LIB</td>\n      <td>4.61</td>\n      <td>2018</td>\n    </tr>\n    <tr>\n      <th>133</th>\n      <td>2018-01-01</td>\n      <td>50</td>\n      <td>Sweden</td>\n      <td>0.00</td>\n      <td>0.00</td>\n      <td>0.00</td>\n      <td>6.32</td>\n      <td>-12.71</td>\n      <td>September 2018</td>\n      <td>Christian Democrats</td>\n      <td>CHR</td>\n      <td>6.13</td>\n      <td>2018</td>\n    </tr>\n    <tr>\n      <th>134</th>\n      <td>2018-01-01</td>\n      <td>60</td>\n      <td>Sweden</td>\n      <td>8.06</td>\n      <td>2.69</td>\n      <td>4.78</td>\n      <td>19.84</td>\n      <td>7.56</td>\n      <td>September 2018</td>\n      <td>Moderate Coalition Party</td>\n      <td>CON</td>\n      <td>11.64</td>\n      <td>2018</td>\n    </tr>\n    <tr>\n      <th>135</th>\n      <td>2018-01-01</td>\n      <td>70</td>\n      <td>Sweden</td>\n      <td>4.43</td>\n      <td>3.96</td>\n      <td>4.20</td>\n      <td>17.53</td>\n      <td>-9.09</td>\n      <td>September 2018</td>\n      <td>Sweden Democrats</td>\n      <td>NAT</td>\n      <td>10.25</td>\n      <td>2018</td>\n    </tr>\n    <tr>\n      <th>136</th>\n      <td>2018-01-01</td>\n      <td>80</td>\n      <td>Sweden</td>\n      <td>15.62</td>\n      <td>0.00</td>\n      <td>8.03</td>\n      <td>8.61</td>\n      <td>9.98</td>\n      <td>September 2018</td>\n      <td>Centre Party</td>\n      <td>AGR</td>\n      <td>1.01</td>\n      <td>2018</td>\n    </tr>\n  </tbody>\n</table>\n<p>137 rows × 13 columns</p>\n</div>"
     },
     "metadata": {},
     "execution_count": 16
    }
   ],
   "source": [
    "#Better option - see how to split into multple dataframes programmatically\n",
    "d = dict(tuple(df.groupby('countryname')))\n",
    "\n",
    "d['Sweden']\n"
   ]
  },
  {
   "cell_type": "code",
   "execution_count": 18,
   "metadata": {},
   "outputs": [
    {
     "output_type": "error",
     "ename": "KeyError",
     "evalue": "'parfam'",
     "traceback": [
      "\u001b[0;31m---------------------------------------------------------------------------\u001b[0m",
      "\u001b[0;31mKeyError\u001b[0m                                  Traceback (most recent call last)",
      "\u001b[0;32m<ipython-input-18-90f5aa9e99c5>\u001b[0m in \u001b[0;36m<module>\u001b[0;34m\u001b[0m\n\u001b[1;32m      2\u001b[0m \u001b[0;34m\u001b[0m\u001b[0m\n\u001b[1;32m      3\u001b[0m \u001b[0;32mfor\u001b[0m \u001b[0mcountry\u001b[0m \u001b[0;32min\u001b[0m \u001b[0meuCountries\u001b[0m\u001b[0;34m:\u001b[0m\u001b[0;34m\u001b[0m\u001b[0;34m\u001b[0m\u001b[0m\n\u001b[0;32m----> 4\u001b[0;31m     d[country] = pd.pivot_table(d[country], \n\u001b[0m\u001b[1;32m      5\u001b[0m                     \u001b[0mindex\u001b[0m\u001b[0;34m=\u001b[0m\u001b[0;34m{\u001b[0m\u001b[0;34m'parfamName'\u001b[0m\u001b[0;34m,\u001b[0m\u001b[0;34m'yearIndex'\u001b[0m\u001b[0;34m}\u001b[0m\u001b[0;34m,\u001b[0m\u001b[0;34m\u001b[0m\u001b[0;34m\u001b[0m\u001b[0m\n\u001b[1;32m      6\u001b[0m                     values=[\n",
      "\u001b[0;32m/opt/anaconda3/lib/python3.8/site-packages/pandas/core/reshape/pivot.py\u001b[0m in \u001b[0;36mpivot_table\u001b[0;34m(data, values, index, columns, aggfunc, fill_value, margins, dropna, margins_name, observed)\u001b[0m\n\u001b[1;32m     75\u001b[0m         \u001b[0;32mfor\u001b[0m \u001b[0mi\u001b[0m \u001b[0;32min\u001b[0m \u001b[0mvalues\u001b[0m\u001b[0;34m:\u001b[0m\u001b[0;34m\u001b[0m\u001b[0;34m\u001b[0m\u001b[0m\n\u001b[1;32m     76\u001b[0m             \u001b[0;32mif\u001b[0m \u001b[0mi\u001b[0m \u001b[0;32mnot\u001b[0m \u001b[0;32min\u001b[0m \u001b[0mdata\u001b[0m\u001b[0;34m:\u001b[0m\u001b[0;34m\u001b[0m\u001b[0;34m\u001b[0m\u001b[0m\n\u001b[0;32m---> 77\u001b[0;31m                 \u001b[0;32mraise\u001b[0m \u001b[0mKeyError\u001b[0m\u001b[0;34m(\u001b[0m\u001b[0mi\u001b[0m\u001b[0;34m)\u001b[0m\u001b[0;34m\u001b[0m\u001b[0;34m\u001b[0m\u001b[0m\n\u001b[0m\u001b[1;32m     78\u001b[0m \u001b[0;34m\u001b[0m\u001b[0m\n\u001b[1;32m     79\u001b[0m         \u001b[0mto_filter\u001b[0m \u001b[0;34m=\u001b[0m \u001b[0;34m[\u001b[0m\u001b[0;34m]\u001b[0m\u001b[0;34m\u001b[0m\u001b[0;34m\u001b[0m\u001b[0m\n",
      "\u001b[0;31mKeyError\u001b[0m: 'parfam'"
     ]
    }
   ],
   "source": [
    "euCountries = ['Austria','Belgium','Bulgaria','Croatia','Cyprus','Czech Republic', 'Denmark', 'Estonia','Finland','France','Germany', 'Greece','Hungary','Ireland','Italy','Latvia','Lithuania','Luxembourg','Malta','Netherlands','Poland','Portugal','Romania','Slovakia','Slovenia','Spain','Sweden'] \n",
    "\n",
    "for country in euCountries:\n",
    "    d[country] = pd.pivot_table(d[country], \n",
    "                    index={'parfamName','yearIndex'}, \n",
    "                    values=[\n",
    "                        'parfam',\n",
    "                        'environ',\n",
    "                        'culture',\n",
    "                        'equality',\n",
    "                        'pervote',\n",
    "                        'rile',\n",
    "                        'staticRile'], \n",
    "                    aggfunc={\n",
    "                        'parfam' : 'count', \n",
    "                        'environ' : 'sum',\n",
    "                        'culture' : 'sum',\n",
    "                        'equality' : 'sum', \n",
    "                        'pervote' : 'sum', \n",
    "                        'rile' : 'mean', \n",
    "                        'staticRile':'min'}, \n",
    "                    dropna=True)\n",
    "    d[country] = d[country].rename(columns={'parfam':'parfamCount'})\n",
    "    d[country] = (d[country]['pervote'])/(d[country]['parfamCount'])\n",
    "\n"
   ]
  },
  {
   "cell_type": "code",
   "execution_count": null,
   "metadata": {},
   "outputs": [],
   "source": []
  }
 ]
}