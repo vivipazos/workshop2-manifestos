{
 "metadata": {
  "language_info": {
   "codemirror_mode": {
    "name": "ipython",
    "version": 3
   },
   "file_extension": ".py",
   "mimetype": "text/x-python",
   "name": "python",
   "nbconvert_exporter": "python",
   "pygments_lexer": "ipython3",
   "version": "3.8.3"
  },
  "orig_nbformat": 2,
  "kernelspec": {
   "name": "python383jvsc74a57bd0dca0ade3e726a953b501b15e8e990130d2b7799f14cfd9f4271676035ebe5511",
   "display_name": "Python 3.8.3 64-bit ('base': conda)"
  }
 },
 "nbformat": 4,
 "nbformat_minor": 2,
 "cells": [
  {
   "cell_type": "code",
   "execution_count": 1,
   "metadata": {},
   "outputs": [
    {
     "output_type": "execute_result",
     "data": {
      "text/plain": [
       "     year  yearObject  parfam     countryname  environ  culture  equality  \\\n",
       "0    1946        1946      20     Netherlands     0.80     4.00      4.00   \n",
       "1    1946        1946      30     Netherlands     2.50     6.20      3.70   \n",
       "2    1946        1946      40     Netherlands     0.00     5.60      9.70   \n",
       "3    1946        1946      50     Netherlands     0.00     1.30      7.90   \n",
       "4    1946        1946      50     Netherlands     0.00     1.50      4.50   \n",
       "..    ...         ...     ...             ...      ...      ...       ...   \n",
       "216  2017        2020      50  Czech Republic     2.83     2.31      1.80   \n",
       "217  2017        2020      50  Czech Republic     1.91     2.73      1.27   \n",
       "218  2017        2020      60  Czech Republic     3.63     7.36      0.19   \n",
       "219  2017        2020      70  Czech Republic     2.43     0.00      0.48   \n",
       "220  2017        2020      95  Czech Republic     3.67     4.64      0.19   \n",
       "\n",
       "     pervote   rile  electionDate  \\\n",
       "0      10.60 -34.40      May 1946   \n",
       "1      28.31 -19.80      May 1946   \n",
       "2       6.41  19.50      May 1946   \n",
       "3      30.81   3.90      May 1946   \n",
       "4      12.90  21.00      May 1946   \n",
       "..       ...    ...           ...   \n",
       "216     5.80 -21.34  October 2017   \n",
       "217     5.31  -6.00  October 2017   \n",
       "218     5.18 -22.66  October 2017   \n",
       "219    10.64 -21.36  October 2017   \n",
       "220    10.80 -21.08  October 2017   \n",
       "\n",
       "                                             partyname  \n",
       "0                   Communist Party of the Netherlands  \n",
       "1                                         Labour Party  \n",
       "2                                        Freedom Party  \n",
       "3                              Catholic People’s Party  \n",
       "4                             Anti-Revolutionary Party  \n",
       "..                                                 ...  \n",
       "216  Christian and Democratic Union - Czech People'...  \n",
       "217           Tradition, Responsibility, Prosperity 09  \n",
       "218                            Mayors and Independents  \n",
       "219                       Freedom and Direct Democracy  \n",
       "220                                 Czech Pirate Party  \n",
       "\n",
       "[9215 rows x 11 columns]"
      ],
      "text/html": "<div>\n<style scoped>\n    .dataframe tbody tr th:only-of-type {\n        vertical-align: middle;\n    }\n\n    .dataframe tbody tr th {\n        vertical-align: top;\n    }\n\n    .dataframe thead th {\n        text-align: right;\n    }\n</style>\n<table border=\"1\" class=\"dataframe\">\n  <thead>\n    <tr style=\"text-align: right;\">\n      <th></th>\n      <th>year</th>\n      <th>yearObject</th>\n      <th>parfam</th>\n      <th>countryname</th>\n      <th>environ</th>\n      <th>culture</th>\n      <th>equality</th>\n      <th>pervote</th>\n      <th>rile</th>\n      <th>electionDate</th>\n      <th>partyname</th>\n    </tr>\n  </thead>\n  <tbody>\n    <tr>\n      <th>0</th>\n      <td>1946</td>\n      <td>1946</td>\n      <td>20</td>\n      <td>Netherlands</td>\n      <td>0.80</td>\n      <td>4.00</td>\n      <td>4.00</td>\n      <td>10.60</td>\n      <td>-34.40</td>\n      <td>May 1946</td>\n      <td>Communist Party of the Netherlands</td>\n    </tr>\n    <tr>\n      <th>1</th>\n      <td>1946</td>\n      <td>1946</td>\n      <td>30</td>\n      <td>Netherlands</td>\n      <td>2.50</td>\n      <td>6.20</td>\n      <td>3.70</td>\n      <td>28.31</td>\n      <td>-19.80</td>\n      <td>May 1946</td>\n      <td>Labour Party</td>\n    </tr>\n    <tr>\n      <th>2</th>\n      <td>1946</td>\n      <td>1946</td>\n      <td>40</td>\n      <td>Netherlands</td>\n      <td>0.00</td>\n      <td>5.60</td>\n      <td>9.70</td>\n      <td>6.41</td>\n      <td>19.50</td>\n      <td>May 1946</td>\n      <td>Freedom Party</td>\n    </tr>\n    <tr>\n      <th>3</th>\n      <td>1946</td>\n      <td>1946</td>\n      <td>50</td>\n      <td>Netherlands</td>\n      <td>0.00</td>\n      <td>1.30</td>\n      <td>7.90</td>\n      <td>30.81</td>\n      <td>3.90</td>\n      <td>May 1946</td>\n      <td>Catholic People’s Party</td>\n    </tr>\n    <tr>\n      <th>4</th>\n      <td>1946</td>\n      <td>1946</td>\n      <td>50</td>\n      <td>Netherlands</td>\n      <td>0.00</td>\n      <td>1.50</td>\n      <td>4.50</td>\n      <td>12.90</td>\n      <td>21.00</td>\n      <td>May 1946</td>\n      <td>Anti-Revolutionary Party</td>\n    </tr>\n    <tr>\n      <th>...</th>\n      <td>...</td>\n      <td>...</td>\n      <td>...</td>\n      <td>...</td>\n      <td>...</td>\n      <td>...</td>\n      <td>...</td>\n      <td>...</td>\n      <td>...</td>\n      <td>...</td>\n      <td>...</td>\n    </tr>\n    <tr>\n      <th>216</th>\n      <td>2017</td>\n      <td>2020</td>\n      <td>50</td>\n      <td>Czech Republic</td>\n      <td>2.83</td>\n      <td>2.31</td>\n      <td>1.80</td>\n      <td>5.80</td>\n      <td>-21.34</td>\n      <td>October 2017</td>\n      <td>Christian and Democratic Union - Czech People'...</td>\n    </tr>\n    <tr>\n      <th>217</th>\n      <td>2017</td>\n      <td>2020</td>\n      <td>50</td>\n      <td>Czech Republic</td>\n      <td>1.91</td>\n      <td>2.73</td>\n      <td>1.27</td>\n      <td>5.31</td>\n      <td>-6.00</td>\n      <td>October 2017</td>\n      <td>Tradition, Responsibility, Prosperity 09</td>\n    </tr>\n    <tr>\n      <th>218</th>\n      <td>2017</td>\n      <td>2020</td>\n      <td>60</td>\n      <td>Czech Republic</td>\n      <td>3.63</td>\n      <td>7.36</td>\n      <td>0.19</td>\n      <td>5.18</td>\n      <td>-22.66</td>\n      <td>October 2017</td>\n      <td>Mayors and Independents</td>\n    </tr>\n    <tr>\n      <th>219</th>\n      <td>2017</td>\n      <td>2020</td>\n      <td>70</td>\n      <td>Czech Republic</td>\n      <td>2.43</td>\n      <td>0.00</td>\n      <td>0.48</td>\n      <td>10.64</td>\n      <td>-21.36</td>\n      <td>October 2017</td>\n      <td>Freedom and Direct Democracy</td>\n    </tr>\n    <tr>\n      <th>220</th>\n      <td>2017</td>\n      <td>2020</td>\n      <td>95</td>\n      <td>Czech Republic</td>\n      <td>3.67</td>\n      <td>4.64</td>\n      <td>0.19</td>\n      <td>10.80</td>\n      <td>-21.08</td>\n      <td>October 2017</td>\n      <td>Czech Pirate Party</td>\n    </tr>\n  </tbody>\n</table>\n<p>9215 rows × 11 columns</p>\n</div>"
     },
     "metadata": {},
     "execution_count": 1
    }
   ],
   "source": [
    "import pandas as pd\n",
    "import glob\n",
    "\n",
    "pd.set_option(\"display.precision\", 2) #always just show 2 decimal points\n",
    "\n",
    "\n",
    "#Read in all country data\n",
    "path = r'/Users/rvpazos/Documents/mvtec/ManifestoProject/workshop2-manifesto-rebeccaFolder/country-data-2' # use your path\n",
    "all_files = glob.glob(path + \"/*.csv\")\n",
    "\n",
    "all_files\n",
    "li = []\n",
    "for filename in all_files:\n",
    "    df = pd.read_csv(filename,header=0)\n",
    "    li.append(df)\n",
    "\n",
    "allData = pd.concat(li, axis=0)\n",
    "\n",
    "# allData.reset_index()\n",
    "# allData = allData.set_index(pd.DatetimeIndex(allData['index'])).drop(['index'], axis=1)\n",
    "\n",
    "allData\n",
    "\n"
   ]
  },
  {
   "cell_type": "code",
   "execution_count": 3,
   "metadata": {},
   "outputs": [
    {
     "output_type": "execute_result",
     "data": {
      "text/plain": [
       "   year  yearObject  parfam  countryname  environ  culture  equality  pervote  \\\n",
       "0  1946        1946      20  Netherlands      0.8      4.0       4.0    10.60   \n",
       "1  1946        1946      30  Netherlands      2.5      6.2       3.7    28.31   \n",
       "2  1946        1946      40  Netherlands      0.0      5.6       9.7     6.41   \n",
       "3  1946        1946      50  Netherlands      0.0      1.3       7.9    30.81   \n",
       "4  1946        1946      50  Netherlands      0.0      1.5       4.5    12.90   \n",
       "\n",
       "   rile electionDate                           partyname parfamName  \n",
       "0 -34.4     May 1946  Communist Party of the Netherlands        LEF  \n",
       "1 -19.8     May 1946                        Labour Party        SOC  \n",
       "2  19.5     May 1946                       Freedom Party        LIB  \n",
       "3   3.9     May 1946             Catholic People’s Party        CHR  \n",
       "4  21.0     May 1946            Anti-Revolutionary Party        CHR  "
      ],
      "text/html": "<div>\n<style scoped>\n    .dataframe tbody tr th:only-of-type {\n        vertical-align: middle;\n    }\n\n    .dataframe tbody tr th {\n        vertical-align: top;\n    }\n\n    .dataframe thead th {\n        text-align: right;\n    }\n</style>\n<table border=\"1\" class=\"dataframe\">\n  <thead>\n    <tr style=\"text-align: right;\">\n      <th></th>\n      <th>year</th>\n      <th>yearObject</th>\n      <th>parfam</th>\n      <th>countryname</th>\n      <th>environ</th>\n      <th>culture</th>\n      <th>equality</th>\n      <th>pervote</th>\n      <th>rile</th>\n      <th>electionDate</th>\n      <th>partyname</th>\n      <th>parfamName</th>\n    </tr>\n  </thead>\n  <tbody>\n    <tr>\n      <th>0</th>\n      <td>1946</td>\n      <td>1946</td>\n      <td>20</td>\n      <td>Netherlands</td>\n      <td>0.8</td>\n      <td>4.0</td>\n      <td>4.0</td>\n      <td>10.60</td>\n      <td>-34.4</td>\n      <td>May 1946</td>\n      <td>Communist Party of the Netherlands</td>\n      <td>LEF</td>\n    </tr>\n    <tr>\n      <th>1</th>\n      <td>1946</td>\n      <td>1946</td>\n      <td>30</td>\n      <td>Netherlands</td>\n      <td>2.5</td>\n      <td>6.2</td>\n      <td>3.7</td>\n      <td>28.31</td>\n      <td>-19.8</td>\n      <td>May 1946</td>\n      <td>Labour Party</td>\n      <td>SOC</td>\n    </tr>\n    <tr>\n      <th>2</th>\n      <td>1946</td>\n      <td>1946</td>\n      <td>40</td>\n      <td>Netherlands</td>\n      <td>0.0</td>\n      <td>5.6</td>\n      <td>9.7</td>\n      <td>6.41</td>\n      <td>19.5</td>\n      <td>May 1946</td>\n      <td>Freedom Party</td>\n      <td>LIB</td>\n    </tr>\n    <tr>\n      <th>3</th>\n      <td>1946</td>\n      <td>1946</td>\n      <td>50</td>\n      <td>Netherlands</td>\n      <td>0.0</td>\n      <td>1.3</td>\n      <td>7.9</td>\n      <td>30.81</td>\n      <td>3.9</td>\n      <td>May 1946</td>\n      <td>Catholic People’s Party</td>\n      <td>CHR</td>\n    </tr>\n    <tr>\n      <th>4</th>\n      <td>1946</td>\n      <td>1946</td>\n      <td>50</td>\n      <td>Netherlands</td>\n      <td>0.0</td>\n      <td>1.5</td>\n      <td>4.5</td>\n      <td>12.90</td>\n      <td>21.0</td>\n      <td>May 1946</td>\n      <td>Anti-Revolutionary Party</td>\n      <td>CHR</td>\n    </tr>\n  </tbody>\n</table>\n</div>"
     },
     "metadata": {},
     "execution_count": 3
    }
   ],
   "source": [
    "#Parfam renamed\n",
    "import numpy as np \n",
    "\n",
    "#Change parfam codes to abbreviations for better identification\n",
    "conditions = [\n",
    "    (allData['parfam'] == 10),\n",
    "    (allData['parfam'] == 20),\n",
    "    (allData['parfam'] == 30),\n",
    "    (allData['parfam'] == 40),\n",
    "    (allData['parfam'] == 50),\n",
    "    (allData['parfam'] == 60),\n",
    "    (allData['parfam'] == 70),\n",
    "    (allData['parfam'] == 80),\n",
    "    (allData['parfam'] == 90),\n",
    "    (allData['parfam'] == 95),\n",
    "    (allData['parfam'] == 98),\n",
    "]\n",
    "\n",
    "values = ['ECO','LEF','SOC','LIB','CHR', 'CON', 'NAT', 'AGR', 'ETH', 'SIP', 'DIV']\n",
    "\n",
    "allData['parfamName'] = np.select(conditions,values)\n",
    "\n",
    "\n",
    "allData.head()\n"
   ]
  },
  {
   "cell_type": "code",
   "execution_count": 15,
   "metadata": {},
   "outputs": [],
   "source": [
    "allData = allData[~allData['parfam']==999]"
   ]
  },
  {
   "cell_type": "code",
   "execution_count": 13,
   "metadata": {},
   "outputs": [
    {
     "output_type": "execute_result",
     "data": {
      "text/plain": [
       "     year yearObject  parfam     countryname  environ  culture  equality  \\\n",
       "0    1946 1946-01-01      20     Netherlands     0.80     4.00      4.00   \n",
       "1    1946 1946-01-01      30     Netherlands     2.50     6.20      3.70   \n",
       "2    1946 1946-01-01      40     Netherlands     0.00     5.60      9.70   \n",
       "3    1946 1946-01-01      50     Netherlands     0.00     1.30      7.90   \n",
       "4    1946 1946-01-01      50     Netherlands     0.00     1.50      4.50   \n",
       "..    ...        ...     ...             ...      ...      ...       ...   \n",
       "216  2017 2020-01-01      50  Czech Republic     2.83     2.31      1.80   \n",
       "217  2017 2020-01-01      50  Czech Republic     1.91     2.73      1.27   \n",
       "218  2017 2020-01-01      60  Czech Republic     3.63     7.36      0.19   \n",
       "219  2017 2020-01-01      70  Czech Republic     2.43     0.00      0.48   \n",
       "220  2017 2020-01-01      95  Czech Republic     3.67     4.64      0.19   \n",
       "\n",
       "     pervote   rile  electionDate  \\\n",
       "0      10.60 -34.40      May 1946   \n",
       "1      28.31 -19.80      May 1946   \n",
       "2       6.41  19.50      May 1946   \n",
       "3      30.81   3.90      May 1946   \n",
       "4      12.90  21.00      May 1946   \n",
       "..       ...    ...           ...   \n",
       "216     5.80 -21.34  October 2017   \n",
       "217     5.31  -6.00  October 2017   \n",
       "218     5.18 -22.66  October 2017   \n",
       "219    10.64 -21.36  October 2017   \n",
       "220    10.80 -21.08  October 2017   \n",
       "\n",
       "                                             partyname  \n",
       "0                   Communist Party of the Netherlands  \n",
       "1                                         Labour Party  \n",
       "2                                        Freedom Party  \n",
       "3                              Catholic People’s Party  \n",
       "4                             Anti-Revolutionary Party  \n",
       "..                                                 ...  \n",
       "216  Christian and Democratic Union - Czech People'...  \n",
       "217           Tradition, Responsibility, Prosperity 09  \n",
       "218                            Mayors and Independents  \n",
       "219                       Freedom and Direct Democracy  \n",
       "220                                 Czech Pirate Party  \n",
       "\n",
       "[9215 rows x 11 columns]"
      ],
      "text/html": "<div>\n<style scoped>\n    .dataframe tbody tr th:only-of-type {\n        vertical-align: middle;\n    }\n\n    .dataframe tbody tr th {\n        vertical-align: top;\n    }\n\n    .dataframe thead th {\n        text-align: right;\n    }\n</style>\n<table border=\"1\" class=\"dataframe\">\n  <thead>\n    <tr style=\"text-align: right;\">\n      <th></th>\n      <th>year</th>\n      <th>yearObject</th>\n      <th>parfam</th>\n      <th>countryname</th>\n      <th>environ</th>\n      <th>culture</th>\n      <th>equality</th>\n      <th>pervote</th>\n      <th>rile</th>\n      <th>electionDate</th>\n      <th>partyname</th>\n    </tr>\n  </thead>\n  <tbody>\n    <tr>\n      <th>0</th>\n      <td>1946</td>\n      <td>1946-01-01</td>\n      <td>20</td>\n      <td>Netherlands</td>\n      <td>0.80</td>\n      <td>4.00</td>\n      <td>4.00</td>\n      <td>10.60</td>\n      <td>-34.40</td>\n      <td>May 1946</td>\n      <td>Communist Party of the Netherlands</td>\n    </tr>\n    <tr>\n      <th>1</th>\n      <td>1946</td>\n      <td>1946-01-01</td>\n      <td>30</td>\n      <td>Netherlands</td>\n      <td>2.50</td>\n      <td>6.20</td>\n      <td>3.70</td>\n      <td>28.31</td>\n      <td>-19.80</td>\n      <td>May 1946</td>\n      <td>Labour Party</td>\n    </tr>\n    <tr>\n      <th>2</th>\n      <td>1946</td>\n      <td>1946-01-01</td>\n      <td>40</td>\n      <td>Netherlands</td>\n      <td>0.00</td>\n      <td>5.60</td>\n      <td>9.70</td>\n      <td>6.41</td>\n      <td>19.50</td>\n      <td>May 1946</td>\n      <td>Freedom Party</td>\n    </tr>\n    <tr>\n      <th>3</th>\n      <td>1946</td>\n      <td>1946-01-01</td>\n      <td>50</td>\n      <td>Netherlands</td>\n      <td>0.00</td>\n      <td>1.30</td>\n      <td>7.90</td>\n      <td>30.81</td>\n      <td>3.90</td>\n      <td>May 1946</td>\n      <td>Catholic People’s Party</td>\n    </tr>\n    <tr>\n      <th>4</th>\n      <td>1946</td>\n      <td>1946-01-01</td>\n      <td>50</td>\n      <td>Netherlands</td>\n      <td>0.00</td>\n      <td>1.50</td>\n      <td>4.50</td>\n      <td>12.90</td>\n      <td>21.00</td>\n      <td>May 1946</td>\n      <td>Anti-Revolutionary Party</td>\n    </tr>\n    <tr>\n      <th>...</th>\n      <td>...</td>\n      <td>...</td>\n      <td>...</td>\n      <td>...</td>\n      <td>...</td>\n      <td>...</td>\n      <td>...</td>\n      <td>...</td>\n      <td>...</td>\n      <td>...</td>\n      <td>...</td>\n    </tr>\n    <tr>\n      <th>216</th>\n      <td>2017</td>\n      <td>2020-01-01</td>\n      <td>50</td>\n      <td>Czech Republic</td>\n      <td>2.83</td>\n      <td>2.31</td>\n      <td>1.80</td>\n      <td>5.80</td>\n      <td>-21.34</td>\n      <td>October 2017</td>\n      <td>Christian and Democratic Union - Czech People'...</td>\n    </tr>\n    <tr>\n      <th>217</th>\n      <td>2017</td>\n      <td>2020-01-01</td>\n      <td>50</td>\n      <td>Czech Republic</td>\n      <td>1.91</td>\n      <td>2.73</td>\n      <td>1.27</td>\n      <td>5.31</td>\n      <td>-6.00</td>\n      <td>October 2017</td>\n      <td>Tradition, Responsibility, Prosperity 09</td>\n    </tr>\n    <tr>\n      <th>218</th>\n      <td>2017</td>\n      <td>2020-01-01</td>\n      <td>60</td>\n      <td>Czech Republic</td>\n      <td>3.63</td>\n      <td>7.36</td>\n      <td>0.19</td>\n      <td>5.18</td>\n      <td>-22.66</td>\n      <td>October 2017</td>\n      <td>Mayors and Independents</td>\n    </tr>\n    <tr>\n      <th>219</th>\n      <td>2017</td>\n      <td>2020-01-01</td>\n      <td>70</td>\n      <td>Czech Republic</td>\n      <td>2.43</td>\n      <td>0.00</td>\n      <td>0.48</td>\n      <td>10.64</td>\n      <td>-21.36</td>\n      <td>October 2017</td>\n      <td>Freedom and Direct Democracy</td>\n    </tr>\n    <tr>\n      <th>220</th>\n      <td>2017</td>\n      <td>2020-01-01</td>\n      <td>95</td>\n      <td>Czech Republic</td>\n      <td>3.67</td>\n      <td>4.64</td>\n      <td>0.19</td>\n      <td>10.80</td>\n      <td>-21.08</td>\n      <td>October 2017</td>\n      <td>Czech Pirate Party</td>\n    </tr>\n  </tbody>\n</table>\n<p>9215 rows × 11 columns</p>\n</div>"
     },
     "metadata": {},
     "execution_count": 13
    }
   ],
   "source": [
    "# #Extract year\n",
    "\n",
    "# allData['yearObject'] = pd.to_datetime(allData['yearObject'], format='%Y')\n",
    "# # allData['yearIndex'] = allData['yearObject'].dt.year\n",
    "\n",
    "# # allData.drop('yearObject', axis='columns', inplace = True)\n",
    "\n",
    "\n",
    "# allData\n"
   ]
  },
  {
   "cell_type": "code",
   "execution_count": 16,
   "metadata": {},
   "outputs": [
    {
     "output_type": "execute_result",
     "data": {
      "text/plain": [
       "Empty DataFrame\n",
       "Columns: [yearObject, parfamName, parfam, countryname, environ, culture, equality, pervote, rile, staticRile, electionDate, partyname]\n",
       "Index: []"
      ],
      "text/html": "<div>\n<style scoped>\n    .dataframe tbody tr th:only-of-type {\n        vertical-align: middle;\n    }\n\n    .dataframe tbody tr th {\n        vertical-align: top;\n    }\n\n    .dataframe thead th {\n        text-align: right;\n    }\n</style>\n<table border=\"1\" class=\"dataframe\">\n  <thead>\n    <tr style=\"text-align: right;\">\n      <th></th>\n      <th>yearObject</th>\n      <th>parfamName</th>\n      <th>parfam</th>\n      <th>countryname</th>\n      <th>environ</th>\n      <th>culture</th>\n      <th>equality</th>\n      <th>pervote</th>\n      <th>rile</th>\n      <th>staticRile</th>\n      <th>electionDate</th>\n      <th>partyname</th>\n    </tr>\n  </thead>\n  <tbody>\n  </tbody>\n</table>\n</div>"
     },
     "metadata": {},
     "execution_count": 16
    }
   ],
   "source": [
    "#Add column with static rile instead of dynamic just in case\n",
    "\n",
    "conditionsStatic = [\n",
    "    (allData['parfam'] == 10),\n",
    "    (allData['parfam'] == 20),\n",
    "    (allData['parfam'] == 30),\n",
    "    (allData['parfam'] == 40),\n",
    "    (allData['parfam'] == 50),\n",
    "    (allData['parfam'] == 60),\n",
    "    (allData['parfam'] == 70),\n",
    "    (allData['parfam'] == 80),\n",
    "    (allData['parfam'] == 90),\n",
    "    (allData['parfam'] == 95),\n",
    "    (allData['parfam'] == 98),\n",
    "]\n",
    "\n",
    "valuesStatic = [-13.65,-23.66,-14,4.61,6.13,11.64,10.25,1.01,-9.04,3.36,-10.52]\n",
    "\n",
    "allData['staticRile'] = np.select(conditionsStatic,valuesStatic)\n",
    "\n",
    "allData\n"
   ]
  },
  {
   "cell_type": "code",
   "execution_count": 8,
   "metadata": {},
   "outputs": [
    {
     "output_type": "execute_result",
     "data": {
      "text/plain": [
       "            yearIndex  parfam     countryname  environ  culture  equality  \\\n",
       "parfamName                                                                  \n",
       "LEF              1946      20     Netherlands     0.80     4.00      4.00   \n",
       "SOC              1946      30     Netherlands     2.50     6.20      3.70   \n",
       "LIB              1946      40     Netherlands     0.00     5.60      9.70   \n",
       "CHR              1946      50     Netherlands     0.00     1.30      7.90   \n",
       "CHR              1946      50     Netherlands     0.00     1.50      4.50   \n",
       "...               ...     ...             ...      ...      ...       ...   \n",
       "CHR              2020      50  Czech Republic     2.83     2.31      1.80   \n",
       "CHR              2020      50  Czech Republic     1.91     2.73      1.27   \n",
       "CON              2020      60  Czech Republic     3.63     7.36      0.19   \n",
       "NAT              2020      70  Czech Republic     2.43     0.00      0.48   \n",
       "SIP              2020      95  Czech Republic     3.67     4.64      0.19   \n",
       "\n",
       "            pervote   rile  staticRile  electionDate  \\\n",
       "parfamName                                             \n",
       "LEF           10.60 -34.40      -23.66      May 1946   \n",
       "SOC           28.31 -19.80      -14.00      May 1946   \n",
       "LIB            6.41  19.50        4.61      May 1946   \n",
       "CHR           30.81   3.90        6.13      May 1946   \n",
       "CHR           12.90  21.00        6.13      May 1946   \n",
       "...             ...    ...         ...           ...   \n",
       "CHR            5.80 -21.34        6.13  October 2017   \n",
       "CHR            5.31  -6.00        6.13  October 2017   \n",
       "CON            5.18 -22.66       11.64  October 2017   \n",
       "NAT           10.64 -21.36       10.25  October 2017   \n",
       "SIP           10.80 -21.08        3.36  October 2017   \n",
       "\n",
       "                                                    partyname  \n",
       "parfamName                                                     \n",
       "LEF                        Communist Party of the Netherlands  \n",
       "SOC                                              Labour Party  \n",
       "LIB                                             Freedom Party  \n",
       "CHR                                   Catholic People’s Party  \n",
       "CHR                                  Anti-Revolutionary Party  \n",
       "...                                                       ...  \n",
       "CHR         Christian and Democratic Union - Czech People'...  \n",
       "CHR                  Tradition, Responsibility, Prosperity 09  \n",
       "CON                                   Mayors and Independents  \n",
       "NAT                              Freedom and Direct Democracy  \n",
       "SIP                                        Czech Pirate Party  \n",
       "\n",
       "[9215 rows x 11 columns]"
      ],
      "text/html": "<div>\n<style scoped>\n    .dataframe tbody tr th:only-of-type {\n        vertical-align: middle;\n    }\n\n    .dataframe tbody tr th {\n        vertical-align: top;\n    }\n\n    .dataframe thead th {\n        text-align: right;\n    }\n</style>\n<table border=\"1\" class=\"dataframe\">\n  <thead>\n    <tr style=\"text-align: right;\">\n      <th></th>\n      <th>yearIndex</th>\n      <th>parfam</th>\n      <th>countryname</th>\n      <th>environ</th>\n      <th>culture</th>\n      <th>equality</th>\n      <th>pervote</th>\n      <th>rile</th>\n      <th>staticRile</th>\n      <th>electionDate</th>\n      <th>partyname</th>\n    </tr>\n    <tr>\n      <th>parfamName</th>\n      <th></th>\n      <th></th>\n      <th></th>\n      <th></th>\n      <th></th>\n      <th></th>\n      <th></th>\n      <th></th>\n      <th></th>\n      <th></th>\n      <th></th>\n    </tr>\n  </thead>\n  <tbody>\n    <tr>\n      <th>LEF</th>\n      <td>1946</td>\n      <td>20</td>\n      <td>Netherlands</td>\n      <td>0.80</td>\n      <td>4.00</td>\n      <td>4.00</td>\n      <td>10.60</td>\n      <td>-34.40</td>\n      <td>-23.66</td>\n      <td>May 1946</td>\n      <td>Communist Party of the Netherlands</td>\n    </tr>\n    <tr>\n      <th>SOC</th>\n      <td>1946</td>\n      <td>30</td>\n      <td>Netherlands</td>\n      <td>2.50</td>\n      <td>6.20</td>\n      <td>3.70</td>\n      <td>28.31</td>\n      <td>-19.80</td>\n      <td>-14.00</td>\n      <td>May 1946</td>\n      <td>Labour Party</td>\n    </tr>\n    <tr>\n      <th>LIB</th>\n      <td>1946</td>\n      <td>40</td>\n      <td>Netherlands</td>\n      <td>0.00</td>\n      <td>5.60</td>\n      <td>9.70</td>\n      <td>6.41</td>\n      <td>19.50</td>\n      <td>4.61</td>\n      <td>May 1946</td>\n      <td>Freedom Party</td>\n    </tr>\n    <tr>\n      <th>CHR</th>\n      <td>1946</td>\n      <td>50</td>\n      <td>Netherlands</td>\n      <td>0.00</td>\n      <td>1.30</td>\n      <td>7.90</td>\n      <td>30.81</td>\n      <td>3.90</td>\n      <td>6.13</td>\n      <td>May 1946</td>\n      <td>Catholic People’s Party</td>\n    </tr>\n    <tr>\n      <th>CHR</th>\n      <td>1946</td>\n      <td>50</td>\n      <td>Netherlands</td>\n      <td>0.00</td>\n      <td>1.50</td>\n      <td>4.50</td>\n      <td>12.90</td>\n      <td>21.00</td>\n      <td>6.13</td>\n      <td>May 1946</td>\n      <td>Anti-Revolutionary Party</td>\n    </tr>\n    <tr>\n      <th>...</th>\n      <td>...</td>\n      <td>...</td>\n      <td>...</td>\n      <td>...</td>\n      <td>...</td>\n      <td>...</td>\n      <td>...</td>\n      <td>...</td>\n      <td>...</td>\n      <td>...</td>\n      <td>...</td>\n    </tr>\n    <tr>\n      <th>CHR</th>\n      <td>2020</td>\n      <td>50</td>\n      <td>Czech Republic</td>\n      <td>2.83</td>\n      <td>2.31</td>\n      <td>1.80</td>\n      <td>5.80</td>\n      <td>-21.34</td>\n      <td>6.13</td>\n      <td>October 2017</td>\n      <td>Christian and Democratic Union - Czech People'...</td>\n    </tr>\n    <tr>\n      <th>CHR</th>\n      <td>2020</td>\n      <td>50</td>\n      <td>Czech Republic</td>\n      <td>1.91</td>\n      <td>2.73</td>\n      <td>1.27</td>\n      <td>5.31</td>\n      <td>-6.00</td>\n      <td>6.13</td>\n      <td>October 2017</td>\n      <td>Tradition, Responsibility, Prosperity 09</td>\n    </tr>\n    <tr>\n      <th>CON</th>\n      <td>2020</td>\n      <td>60</td>\n      <td>Czech Republic</td>\n      <td>3.63</td>\n      <td>7.36</td>\n      <td>0.19</td>\n      <td>5.18</td>\n      <td>-22.66</td>\n      <td>11.64</td>\n      <td>October 2017</td>\n      <td>Mayors and Independents</td>\n    </tr>\n    <tr>\n      <th>NAT</th>\n      <td>2020</td>\n      <td>70</td>\n      <td>Czech Republic</td>\n      <td>2.43</td>\n      <td>0.00</td>\n      <td>0.48</td>\n      <td>10.64</td>\n      <td>-21.36</td>\n      <td>10.25</td>\n      <td>October 2017</td>\n      <td>Freedom and Direct Democracy</td>\n    </tr>\n    <tr>\n      <th>SIP</th>\n      <td>2020</td>\n      <td>95</td>\n      <td>Czech Republic</td>\n      <td>3.67</td>\n      <td>4.64</td>\n      <td>0.19</td>\n      <td>10.80</td>\n      <td>-21.08</td>\n      <td>3.36</td>\n      <td>October 2017</td>\n      <td>Czech Pirate Party</td>\n    </tr>\n  </tbody>\n</table>\n<p>9215 rows × 11 columns</p>\n</div>"
     },
     "metadata": {},
     "execution_count": 8
    }
   ],
   "source": [
    "\n",
    "allData = allData[['yearObject','parfamName','parfam','countryname','environ','culture','equality','pervote','rile','staticRile','electionDate','partyname']]\n",
    "df2 = allData.set_index('parfamName')\n",
    "df2 = df2.rename(columns={'yearObject' : 'yearIndex'})\n",
    "df2.to_csv('finalData/allCountries.csv')\n",
    "\n",
    "df2"
   ]
  },
  {
   "cell_type": "code",
   "execution_count": 17,
   "metadata": {},
   "outputs": [
    {
     "output_type": "execute_result",
     "data": {
      "text/plain": [
       "                      culture  environ  equality  parfamCount  pervote   rile  \\\n",
       "yearIndex parfamName                                                            \n",
       "1944      AGR            0.00     0.00      0.00            1    13.60  23.81   \n",
       "          CON            0.00     0.00      5.30            1    15.80  28.00   \n",
       "          LEF            0.00     0.00      0.00            1    10.30   9.60   \n",
       "          LIB            0.00     0.00      1.60            1    12.90   9.50   \n",
       "          SOC            0.00     0.00      5.60            1    46.50 -37.80   \n",
       "...                       ...      ...       ...          ...      ...    ...   \n",
       "2020      LEF           85.48   179.33    320.04           36   287.58 -29.87   \n",
       "          LIB          116.58   153.27    162.80           36   425.18  -4.60   \n",
       "          NAT           63.67    94.79     94.91           33   361.99  10.96   \n",
       "          SIP           28.45    74.80     40.93           10    87.47  -7.46   \n",
       "          SOC           93.78   137.71    242.61           34   553.78 -19.91   \n",
       "\n",
       "                      staticRile  avgVote  \n",
       "yearIndex parfamName                       \n",
       "1944      AGR               1.01    13.60  \n",
       "          CON              11.64    15.80  \n",
       "          LEF             -23.66    10.30  \n",
       "          LIB               4.61    12.90  \n",
       "          SOC             -14.00    46.50  \n",
       "...                          ...      ...  \n",
       "2020      LEF             -23.66     7.99  \n",
       "          LIB               4.61    11.81  \n",
       "          NAT              10.25    10.97  \n",
       "          SIP               3.36     8.75  \n",
       "          SOC             -14.00    16.29  \n",
       "\n",
       "[745 rows x 8 columns]"
      ],
      "text/html": "<div>\n<style scoped>\n    .dataframe tbody tr th:only-of-type {\n        vertical-align: middle;\n    }\n\n    .dataframe tbody tr th {\n        vertical-align: top;\n    }\n\n    .dataframe thead th {\n        text-align: right;\n    }\n</style>\n<table border=\"1\" class=\"dataframe\">\n  <thead>\n    <tr style=\"text-align: right;\">\n      <th></th>\n      <th></th>\n      <th>culture</th>\n      <th>environ</th>\n      <th>equality</th>\n      <th>parfamCount</th>\n      <th>pervote</th>\n      <th>rile</th>\n      <th>staticRile</th>\n      <th>avgVote</th>\n    </tr>\n    <tr>\n      <th>yearIndex</th>\n      <th>parfamName</th>\n      <th></th>\n      <th></th>\n      <th></th>\n      <th></th>\n      <th></th>\n      <th></th>\n      <th></th>\n      <th></th>\n    </tr>\n  </thead>\n  <tbody>\n    <tr>\n      <th rowspan=\"5\" valign=\"top\">1944</th>\n      <th>AGR</th>\n      <td>0.00</td>\n      <td>0.00</td>\n      <td>0.00</td>\n      <td>1</td>\n      <td>13.60</td>\n      <td>23.81</td>\n      <td>1.01</td>\n      <td>13.60</td>\n    </tr>\n    <tr>\n      <th>CON</th>\n      <td>0.00</td>\n      <td>0.00</td>\n      <td>5.30</td>\n      <td>1</td>\n      <td>15.80</td>\n      <td>28.00</td>\n      <td>11.64</td>\n      <td>15.80</td>\n    </tr>\n    <tr>\n      <th>LEF</th>\n      <td>0.00</td>\n      <td>0.00</td>\n      <td>0.00</td>\n      <td>1</td>\n      <td>10.30</td>\n      <td>9.60</td>\n      <td>-23.66</td>\n      <td>10.30</td>\n    </tr>\n    <tr>\n      <th>LIB</th>\n      <td>0.00</td>\n      <td>0.00</td>\n      <td>1.60</td>\n      <td>1</td>\n      <td>12.90</td>\n      <td>9.50</td>\n      <td>4.61</td>\n      <td>12.90</td>\n    </tr>\n    <tr>\n      <th>SOC</th>\n      <td>0.00</td>\n      <td>0.00</td>\n      <td>5.60</td>\n      <td>1</td>\n      <td>46.50</td>\n      <td>-37.80</td>\n      <td>-14.00</td>\n      <td>46.50</td>\n    </tr>\n    <tr>\n      <th>...</th>\n      <th>...</th>\n      <td>...</td>\n      <td>...</td>\n      <td>...</td>\n      <td>...</td>\n      <td>...</td>\n      <td>...</td>\n      <td>...</td>\n      <td>...</td>\n    </tr>\n    <tr>\n      <th rowspan=\"5\" valign=\"top\">2020</th>\n      <th>LEF</th>\n      <td>85.48</td>\n      <td>179.33</td>\n      <td>320.04</td>\n      <td>36</td>\n      <td>287.58</td>\n      <td>-29.87</td>\n      <td>-23.66</td>\n      <td>7.99</td>\n    </tr>\n    <tr>\n      <th>LIB</th>\n      <td>116.58</td>\n      <td>153.27</td>\n      <td>162.80</td>\n      <td>36</td>\n      <td>425.18</td>\n      <td>-4.60</td>\n      <td>4.61</td>\n      <td>11.81</td>\n    </tr>\n    <tr>\n      <th>NAT</th>\n      <td>63.67</td>\n      <td>94.79</td>\n      <td>94.91</td>\n      <td>33</td>\n      <td>361.99</td>\n      <td>10.96</td>\n      <td>10.25</td>\n      <td>10.97</td>\n    </tr>\n    <tr>\n      <th>SIP</th>\n      <td>28.45</td>\n      <td>74.80</td>\n      <td>40.93</td>\n      <td>10</td>\n      <td>87.47</td>\n      <td>-7.46</td>\n      <td>3.36</td>\n      <td>8.75</td>\n    </tr>\n    <tr>\n      <th>SOC</th>\n      <td>93.78</td>\n      <td>137.71</td>\n      <td>242.61</td>\n      <td>34</td>\n      <td>553.78</td>\n      <td>-19.91</td>\n      <td>-14.00</td>\n      <td>16.29</td>\n    </tr>\n  </tbody>\n</table>\n<p>745 rows × 8 columns</p>\n</div>"
     },
     "metadata": {},
     "execution_count": 17
    }
   ],
   "source": [
    "#create grouped file for CSV\n",
    "\n",
    "import numpy as np\n",
    "\n",
    "pt = pd.pivot_table(df2, index={'parfamName','yearIndex'}, values=['parfam','environ','culture','equality','pervote','rile','staticRile'], aggfunc={'parfam' : 'count', 'environ' : 'sum','culture' : 'sum','equality' : 'sum', 'pervote' : 'sum', 'rile' : 'mean', 'staticRile':'min'}, dropna=True)\n",
    "pt = pt.rename(columns={'parfam':'parfamCount'})\n",
    "pt['avgVote'] = (pt['pervote'])/(pt['parfamCount'])\n",
    "\n",
    "pt"
   ]
  },
  {
   "cell_type": "code",
   "execution_count": 18,
   "metadata": {},
   "outputs": [],
   "source": [
    "pt.to_csv('grouped-data.csv')"
   ]
  },
  {
   "cell_type": "code",
   "execution_count": 22,
   "metadata": {},
   "outputs": [],
   "source": [
    "import json\n",
    "\n",
    "# pt_json = pt.reset_index()\n",
    "# pt_json = pt_json.set_index({'parfamName','yearIndex'})\n",
    "# pt_json\n",
    "\n",
    "result = pt.to_json('test2.json',orient='index')\n",
    "\n",
    "\n"
   ]
  },
  {
   "cell_type": "code",
   "execution_count": 8,
   "metadata": {},
   "outputs": [],
   "source": [
    "spainDF = allData.loc[(allData['countryname']=='Spain')] \n",
    "\n",
    "decadesFilter = ['1990-01-01','1995-01-01','2000-01-01','2005-01-01','2010-01-01','2015-01-01','2020-01-01']\n",
    "filteredSpain = spainDF[spainDF.index.isin(decadesFilter)]\n",
    "filteredSpain\n",
    "\n",
    "\n",
    "ptSpain = pd.pivot_table(filteredSpain, index=['index','parfamName'], values=['parfam','per503','pervote','environWeighted'], aggfunc={'parfam' : 'count', 'per503' : 'sum', 'pervote' : 'sum', 'environWeighted' : 'sum'}, dropna=True)\n",
    "ptSpain['avgVote'] = (ptSpain['pervote'])/(ptSpain['parfam'])\n",
    "\n",
    "ptSpain.to_csv('spain-grouped.csv')"
   ]
  },
  {
   "cell_type": "code",
   "execution_count": 95,
   "metadata": {},
   "outputs": [
    {
     "output_type": "execute_result",
     "data": {
      "text/plain": [
       "index       parfam\n",
       "1944-01-01  20         1\n",
       "            30         1\n",
       "            40         1\n",
       "            60         1\n",
       "            80         1\n",
       "                      ..\n",
       "2020-01-01  70        24\n",
       "            80        12\n",
       "            90        13\n",
       "            95        16\n",
       "            98         4\n",
       "Name: parfam, Length: 750, dtype: int64"
      ]
     },
     "metadata": {},
     "execution_count": 95
    }
   ],
   "source": [
    "n_by_fam = allData.groupby(['index','parfam'])['parfam'].count()\n",
    "n_by_fam\n"
   ]
  },
  {
   "cell_type": "code",
   "execution_count": null,
   "metadata": {},
   "outputs": [],
   "source": []
  }
 ]
}